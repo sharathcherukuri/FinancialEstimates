{
 "cells": [
  {
   "cell_type": "code",
   "execution_count": 141,
   "metadata": {},
   "outputs": [],
   "source": [
    "import pandas as pd\n",
    "import numpy as np"
   ]
  },
  {
   "cell_type": "code",
   "execution_count": 142,
   "metadata": {},
   "outputs": [],
   "source": [
    "analysts = pd.read_csv('analystsinfo_t3.csv')\n",
    "companyeps = pd.read_csv('company_eps_t2.csv')\n",
    "companydetails = pd.read_csv('companydetails_t1.csv')\n",
    "pending = pd.read_csv(r'pendingestimates_t5.csv')\n",
    "scored = pd.read_csv(r'scoredestimates_t6.csv')\n",
    "stocks = pd.read_csv(r'stockscovered_t4.csv')\n",
    "\n"
   ]
  },
  {
   "cell_type": "code",
   "execution_count": 143,
   "metadata": {},
   "outputs": [
    {
     "name": "stdout",
     "output_type": "stream",
     "text": [
      "(387, 11)\n",
      "(260, 6)\n",
      "(65, 6)\n",
      "(1554, 7)\n",
      "(3728, 8)\n",
      "(2154, 8)\n"
     ]
    }
   ],
   "source": [
    "print(analysts.shape)\n",
    "print(companyeps.shape)\n",
    "print(companydetails.shape)\n",
    "print(pending.shape)\n",
    "print(scored.shape)\n",
    "print(stocks.shape)\n"
   ]
  },
  {
   "cell_type": "code",
   "execution_count": 144,
   "metadata": {},
   "outputs": [
    {
     "name": "stdout",
     "output_type": "stream",
     "text": [
      "Index(['analyst_id', 'analyst_names', 'roles', 'membersince',\n",
      "       'confidence_score', 'errorrate', 'accuracy', 'points',\n",
      "       'points_per_estimate', 'stocks', 'pending_estimates'],\n",
      "      dtype='object')\n",
      "Index(['what_search', 'fquarter', 'reported_earnings', 'estimize_consensus',\n",
      "       'estimize_mean', 'wall_street_consensus'],\n",
      "      dtype='object')\n",
      "Index(['what_search', 'name', 'sector', 'industry', 'followers', 'analysts'], dtype='object')\n",
      "Index(['analyst_id', 'Ticker', 'Quarter', 'Reports', 'Published', 'EPS',\n",
      "       'Revenue'],\n",
      "      dtype='object')\n",
      "Index(['analyst_id', 'Ticker', 'Quarter', 'Reported', 'Rank', 'EpsPoints',\n",
      "       'RevenuePoints', 'TotalPoints'],\n",
      "      dtype='object')\n",
      "Index(['analyst_id', 'Ticker', 'Reports', 'Quarters', 'Points', 'PtsEst',\n",
      "       'ErrorRate', 'Accuracy'],\n",
      "      dtype='object')\n"
     ]
    }
   ],
   "source": [
    "\n",
    "print(analysts.columns)\n",
    "print(companyeps.columns)\n",
    "print(companydetails.columns)\n",
    "print(pending.columns)\n",
    "print(scored.columns)\n",
    "print(stocks.columns)"
   ]
  },
  {
   "cell_type": "code",
   "execution_count": 145,
   "metadata": {},
   "outputs": [
    {
     "data": {
      "text/plain": [
       "False"
      ]
     },
     "execution_count": 145,
     "metadata": {},
     "output_type": "execute_result"
    }
   ],
   "source": [
    "analysts['analyst_id'].is_unique"
   ]
  },
  {
   "cell_type": "code",
   "execution_count": 146,
   "metadata": {},
   "outputs": [],
   "source": [
    "join_1 = pd.merge(scored,pending, how = 'inner', on = 'Ticker')\n",
    "join_2 = pd.merge(join_1,stocks, how = 'inner', on = 'Ticker')\n",
    "join_3 = pd.merge(join_2,companydetails, how = 'inner', left_on = 'Ticker', right_on = 'what_search')\n",
    "#join_4 = pd.merge(join_3, companyeps, how = 'inner', on='what_search')"
   ]
  },
  {
   "cell_type": "code",
   "execution_count": 147,
   "metadata": {},
   "outputs": [
    {
     "data": {
      "text/plain": [
       "Index(['analyst_id_x', 'Ticker', 'Quarter_x', 'Reported', 'Rank', 'EpsPoints',\n",
       "       'RevenuePoints', 'TotalPoints', 'analyst_id_y', 'Quarter_y', 'Reports',\n",
       "       'Published', 'EPS', 'Revenue'],\n",
       "      dtype='object')"
      ]
     },
     "execution_count": 147,
     "metadata": {},
     "output_type": "execute_result"
    }
   ],
   "source": [
    "join_1.columns"
   ]
  },
  {
   "cell_type": "code",
   "execution_count": 148,
   "metadata": {},
   "outputs": [
    {
     "name": "stdout",
     "output_type": "stream",
     "text": [
      "(43474, 27)\n"
     ]
    }
   ],
   "source": [
    "print(join_3.shape)\n",
    "#print(join_4.shape)"
   ]
  },
  {
   "cell_type": "code",
   "execution_count": 149,
   "metadata": {},
   "outputs": [
    {
     "data": {
      "text/plain": [
       "Index(['analyst_id_x', 'Ticker', 'Quarter_x', 'Reported', 'Rank', 'EpsPoints',\n",
       "       'RevenuePoints', 'TotalPoints', 'analyst_id_y', 'Quarter_y',\n",
       "       'Reports_x', 'Published', 'EPS', 'Revenue', 'analyst_id', 'Reports_y',\n",
       "       'Quarters', 'Points', 'PtsEst', 'ErrorRate', 'Accuracy', 'what_search',\n",
       "       'name', 'sector', 'industry', 'followers', 'analysts'],\n",
       "      dtype='object')"
      ]
     },
     "execution_count": 149,
     "metadata": {},
     "output_type": "execute_result"
    }
   ],
   "source": [
    "join_3.columns"
   ]
  },
  {
   "cell_type": "code",
   "execution_count": 150,
   "metadata": {},
   "outputs": [
    {
     "data": {
      "text/html": [
       "<div>\n",
       "<style scoped>\n",
       "    .dataframe tbody tr th:only-of-type {\n",
       "        vertical-align: middle;\n",
       "    }\n",
       "\n",
       "    .dataframe tbody tr th {\n",
       "        vertical-align: top;\n",
       "    }\n",
       "\n",
       "    .dataframe thead th {\n",
       "        text-align: right;\n",
       "    }\n",
       "</style>\n",
       "<table border=\"1\" class=\"dataframe\">\n",
       "  <thead>\n",
       "    <tr style=\"text-align: right;\">\n",
       "      <th></th>\n",
       "      <th>analyst_id_x</th>\n",
       "      <th>Ticker</th>\n",
       "      <th>Quarter_x</th>\n",
       "      <th>Reported</th>\n",
       "      <th>Rank</th>\n",
       "      <th>EpsPoints</th>\n",
       "      <th>RevenuePoints</th>\n",
       "      <th>TotalPoints</th>\n",
       "      <th>analyst_id_y</th>\n",
       "      <th>Quarter_y</th>\n",
       "      <th>...</th>\n",
       "      <th>Points</th>\n",
       "      <th>PtsEst</th>\n",
       "      <th>ErrorRate</th>\n",
       "      <th>Accuracy</th>\n",
       "      <th>what_search</th>\n",
       "      <th>name</th>\n",
       "      <th>sector</th>\n",
       "      <th>industry</th>\n",
       "      <th>followers</th>\n",
       "      <th>analysts</th>\n",
       "    </tr>\n",
       "  </thead>\n",
       "  <tbody>\n",
       "    <tr>\n",
       "      <th>0</th>\n",
       "      <td>yorel</td>\n",
       "      <td>CYD</td>\n",
       "      <td>Q3 2020</td>\n",
       "      <td>16-Nov-20</td>\n",
       "      <td>1/4</td>\n",
       "      <td>-2</td>\n",
       "      <td>13</td>\n",
       "      <td>11</td>\n",
       "      <td>benjenholdings</td>\n",
       "      <td>Q3 2021</td>\n",
       "      <td>...</td>\n",
       "      <td>11</td>\n",
       "      <td>11.0</td>\n",
       "      <td>6.90%</td>\n",
       "      <td>74%</td>\n",
       "      <td>CYD</td>\n",
       "      <td>China Yuchai International Limited</td>\n",
       "      <td>Industrials</td>\n",
       "      <td>Machinery</td>\n",
       "      <td>22</td>\n",
       "      <td>40</td>\n",
       "    </tr>\n",
       "    <tr>\n",
       "      <th>1</th>\n",
       "      <td>yorel</td>\n",
       "      <td>CYD</td>\n",
       "      <td>Q3 2020</td>\n",
       "      <td>16-Nov-20</td>\n",
       "      <td>1/4</td>\n",
       "      <td>-2</td>\n",
       "      <td>13</td>\n",
       "      <td>11</td>\n",
       "      <td>benjenholdings</td>\n",
       "      <td>Q3 2021</td>\n",
       "      <td>...</td>\n",
       "      <td>-11</td>\n",
       "      <td>-11.0</td>\n",
       "      <td>37.90%</td>\n",
       "      <td>37%</td>\n",
       "      <td>CYD</td>\n",
       "      <td>China Yuchai International Limited</td>\n",
       "      <td>Industrials</td>\n",
       "      <td>Machinery</td>\n",
       "      <td>22</td>\n",
       "      <td>40</td>\n",
       "    </tr>\n",
       "    <tr>\n",
       "      <th>2</th>\n",
       "      <td>yorel</td>\n",
       "      <td>CYD</td>\n",
       "      <td>Q3 2020</td>\n",
       "      <td>16-Nov-20</td>\n",
       "      <td>1/4</td>\n",
       "      <td>-2</td>\n",
       "      <td>13</td>\n",
       "      <td>11</td>\n",
       "      <td>BillB1210</td>\n",
       "      <td>Q3 2021</td>\n",
       "      <td>...</td>\n",
       "      <td>11</td>\n",
       "      <td>11.0</td>\n",
       "      <td>6.90%</td>\n",
       "      <td>74%</td>\n",
       "      <td>CYD</td>\n",
       "      <td>China Yuchai International Limited</td>\n",
       "      <td>Industrials</td>\n",
       "      <td>Machinery</td>\n",
       "      <td>22</td>\n",
       "      <td>40</td>\n",
       "    </tr>\n",
       "    <tr>\n",
       "      <th>3</th>\n",
       "      <td>yorel</td>\n",
       "      <td>CYD</td>\n",
       "      <td>Q3 2020</td>\n",
       "      <td>16-Nov-20</td>\n",
       "      <td>1/4</td>\n",
       "      <td>-2</td>\n",
       "      <td>13</td>\n",
       "      <td>11</td>\n",
       "      <td>BillB1210</td>\n",
       "      <td>Q3 2021</td>\n",
       "      <td>...</td>\n",
       "      <td>-11</td>\n",
       "      <td>-11.0</td>\n",
       "      <td>37.90%</td>\n",
       "      <td>37%</td>\n",
       "      <td>CYD</td>\n",
       "      <td>China Yuchai International Limited</td>\n",
       "      <td>Industrials</td>\n",
       "      <td>Machinery</td>\n",
       "      <td>22</td>\n",
       "      <td>40</td>\n",
       "    </tr>\n",
       "    <tr>\n",
       "      <th>4</th>\n",
       "      <td>yorel</td>\n",
       "      <td>CYD</td>\n",
       "      <td>Q3 2020</td>\n",
       "      <td>16-Nov-20</td>\n",
       "      <td>1/4</td>\n",
       "      <td>-2</td>\n",
       "      <td>13</td>\n",
       "      <td>11</td>\n",
       "      <td>Analyst_5883186</td>\n",
       "      <td>Q3 2021</td>\n",
       "      <td>...</td>\n",
       "      <td>11</td>\n",
       "      <td>11.0</td>\n",
       "      <td>6.90%</td>\n",
       "      <td>74%</td>\n",
       "      <td>CYD</td>\n",
       "      <td>China Yuchai International Limited</td>\n",
       "      <td>Industrials</td>\n",
       "      <td>Machinery</td>\n",
       "      <td>22</td>\n",
       "      <td>40</td>\n",
       "    </tr>\n",
       "  </tbody>\n",
       "</table>\n",
       "<p>5 rows × 27 columns</p>\n",
       "</div>"
      ],
      "text/plain": [
       "  analyst_id_x Ticker Quarter_x   Reported Rank EpsPoints RevenuePoints  \\\n",
       "0        yorel    CYD   Q3 2020  16-Nov-20  1/4        -2            13   \n",
       "1        yorel    CYD   Q3 2020  16-Nov-20  1/4        -2            13   \n",
       "2        yorel    CYD   Q3 2020  16-Nov-20  1/4        -2            13   \n",
       "3        yorel    CYD   Q3 2020  16-Nov-20  1/4        -2            13   \n",
       "4        yorel    CYD   Q3 2020  16-Nov-20  1/4        -2            13   \n",
       "\n",
       "  TotalPoints     analyst_id_y Quarter_y  ... Points PtsEst ErrorRate  \\\n",
       "0          11   benjenholdings   Q3 2021  ...     11   11.0     6.90%   \n",
       "1          11   benjenholdings   Q3 2021  ...    -11  -11.0    37.90%   \n",
       "2          11        BillB1210   Q3 2021  ...     11   11.0     6.90%   \n",
       "3          11        BillB1210   Q3 2021  ...    -11  -11.0    37.90%   \n",
       "4          11  Analyst_5883186   Q3 2021  ...     11   11.0     6.90%   \n",
       "\n",
       "  Accuracy what_search                                name       sector  \\\n",
       "0      74%         CYD  China Yuchai International Limited  Industrials   \n",
       "1      37%         CYD  China Yuchai International Limited  Industrials   \n",
       "2      74%         CYD  China Yuchai International Limited  Industrials   \n",
       "3      37%         CYD  China Yuchai International Limited  Industrials   \n",
       "4      74%         CYD  China Yuchai International Limited  Industrials   \n",
       "\n",
       "    industry  followers analysts  \n",
       "0  Machinery         22       40  \n",
       "1  Machinery         22       40  \n",
       "2  Machinery         22       40  \n",
       "3  Machinery         22       40  \n",
       "4  Machinery         22       40  \n",
       "\n",
       "[5 rows x 27 columns]"
      ]
     },
     "execution_count": 150,
     "metadata": {},
     "output_type": "execute_result"
    }
   ],
   "source": [
    "join_3.head()"
   ]
  },
  {
   "cell_type": "code",
   "execution_count": 151,
   "metadata": {},
   "outputs": [],
   "source": [
    "data = join_3.dropna()"
   ]
  },
  {
   "cell_type": "code",
   "execution_count": 152,
   "metadata": {},
   "outputs": [
    {
     "data": {
      "text/html": [
       "<div>\n",
       "<style scoped>\n",
       "    .dataframe tbody tr th:only-of-type {\n",
       "        vertical-align: middle;\n",
       "    }\n",
       "\n",
       "    .dataframe tbody tr th {\n",
       "        vertical-align: top;\n",
       "    }\n",
       "\n",
       "    .dataframe thead th {\n",
       "        text-align: right;\n",
       "    }\n",
       "</style>\n",
       "<table border=\"1\" class=\"dataframe\">\n",
       "  <thead>\n",
       "    <tr style=\"text-align: right;\">\n",
       "      <th></th>\n",
       "      <th>analyst_id_x</th>\n",
       "      <th>Ticker</th>\n",
       "      <th>Quarter_x</th>\n",
       "      <th>Reported</th>\n",
       "      <th>Rank</th>\n",
       "      <th>EpsPoints</th>\n",
       "      <th>RevenuePoints</th>\n",
       "      <th>TotalPoints</th>\n",
       "      <th>analyst_id_y</th>\n",
       "      <th>Quarter_y</th>\n",
       "      <th>...</th>\n",
       "      <th>Points</th>\n",
       "      <th>PtsEst</th>\n",
       "      <th>ErrorRate</th>\n",
       "      <th>Accuracy</th>\n",
       "      <th>what_search</th>\n",
       "      <th>name</th>\n",
       "      <th>sector</th>\n",
       "      <th>industry</th>\n",
       "      <th>followers</th>\n",
       "      <th>analysts</th>\n",
       "    </tr>\n",
       "  </thead>\n",
       "  <tbody>\n",
       "    <tr>\n",
       "      <th>0</th>\n",
       "      <td>yorel</td>\n",
       "      <td>CYD</td>\n",
       "      <td>Q3 2020</td>\n",
       "      <td>16-Nov-20</td>\n",
       "      <td>1/4</td>\n",
       "      <td>-2</td>\n",
       "      <td>13</td>\n",
       "      <td>11</td>\n",
       "      <td>benjenholdings</td>\n",
       "      <td>Q3 2021</td>\n",
       "      <td>...</td>\n",
       "      <td>11</td>\n",
       "      <td>11.0</td>\n",
       "      <td>6.90%</td>\n",
       "      <td>74%</td>\n",
       "      <td>CYD</td>\n",
       "      <td>China Yuchai International Limited</td>\n",
       "      <td>Industrials</td>\n",
       "      <td>Machinery</td>\n",
       "      <td>22</td>\n",
       "      <td>40</td>\n",
       "    </tr>\n",
       "    <tr>\n",
       "      <th>1</th>\n",
       "      <td>yorel</td>\n",
       "      <td>CYD</td>\n",
       "      <td>Q3 2020</td>\n",
       "      <td>16-Nov-20</td>\n",
       "      <td>1/4</td>\n",
       "      <td>-2</td>\n",
       "      <td>13</td>\n",
       "      <td>11</td>\n",
       "      <td>benjenholdings</td>\n",
       "      <td>Q3 2021</td>\n",
       "      <td>...</td>\n",
       "      <td>-11</td>\n",
       "      <td>-11.0</td>\n",
       "      <td>37.90%</td>\n",
       "      <td>37%</td>\n",
       "      <td>CYD</td>\n",
       "      <td>China Yuchai International Limited</td>\n",
       "      <td>Industrials</td>\n",
       "      <td>Machinery</td>\n",
       "      <td>22</td>\n",
       "      <td>40</td>\n",
       "    </tr>\n",
       "    <tr>\n",
       "      <th>2</th>\n",
       "      <td>yorel</td>\n",
       "      <td>CYD</td>\n",
       "      <td>Q3 2020</td>\n",
       "      <td>16-Nov-20</td>\n",
       "      <td>1/4</td>\n",
       "      <td>-2</td>\n",
       "      <td>13</td>\n",
       "      <td>11</td>\n",
       "      <td>BillB1210</td>\n",
       "      <td>Q3 2021</td>\n",
       "      <td>...</td>\n",
       "      <td>11</td>\n",
       "      <td>11.0</td>\n",
       "      <td>6.90%</td>\n",
       "      <td>74%</td>\n",
       "      <td>CYD</td>\n",
       "      <td>China Yuchai International Limited</td>\n",
       "      <td>Industrials</td>\n",
       "      <td>Machinery</td>\n",
       "      <td>22</td>\n",
       "      <td>40</td>\n",
       "    </tr>\n",
       "    <tr>\n",
       "      <th>3</th>\n",
       "      <td>yorel</td>\n",
       "      <td>CYD</td>\n",
       "      <td>Q3 2020</td>\n",
       "      <td>16-Nov-20</td>\n",
       "      <td>1/4</td>\n",
       "      <td>-2</td>\n",
       "      <td>13</td>\n",
       "      <td>11</td>\n",
       "      <td>BillB1210</td>\n",
       "      <td>Q3 2021</td>\n",
       "      <td>...</td>\n",
       "      <td>-11</td>\n",
       "      <td>-11.0</td>\n",
       "      <td>37.90%</td>\n",
       "      <td>37%</td>\n",
       "      <td>CYD</td>\n",
       "      <td>China Yuchai International Limited</td>\n",
       "      <td>Industrials</td>\n",
       "      <td>Machinery</td>\n",
       "      <td>22</td>\n",
       "      <td>40</td>\n",
       "    </tr>\n",
       "    <tr>\n",
       "      <th>4</th>\n",
       "      <td>yorel</td>\n",
       "      <td>CYD</td>\n",
       "      <td>Q3 2020</td>\n",
       "      <td>16-Nov-20</td>\n",
       "      <td>1/4</td>\n",
       "      <td>-2</td>\n",
       "      <td>13</td>\n",
       "      <td>11</td>\n",
       "      <td>Analyst_5883186</td>\n",
       "      <td>Q3 2021</td>\n",
       "      <td>...</td>\n",
       "      <td>11</td>\n",
       "      <td>11.0</td>\n",
       "      <td>6.90%</td>\n",
       "      <td>74%</td>\n",
       "      <td>CYD</td>\n",
       "      <td>China Yuchai International Limited</td>\n",
       "      <td>Industrials</td>\n",
       "      <td>Machinery</td>\n",
       "      <td>22</td>\n",
       "      <td>40</td>\n",
       "    </tr>\n",
       "  </tbody>\n",
       "</table>\n",
       "<p>5 rows × 27 columns</p>\n",
       "</div>"
      ],
      "text/plain": [
       "  analyst_id_x Ticker Quarter_x   Reported Rank EpsPoints RevenuePoints  \\\n",
       "0        yorel    CYD   Q3 2020  16-Nov-20  1/4        -2            13   \n",
       "1        yorel    CYD   Q3 2020  16-Nov-20  1/4        -2            13   \n",
       "2        yorel    CYD   Q3 2020  16-Nov-20  1/4        -2            13   \n",
       "3        yorel    CYD   Q3 2020  16-Nov-20  1/4        -2            13   \n",
       "4        yorel    CYD   Q3 2020  16-Nov-20  1/4        -2            13   \n",
       "\n",
       "  TotalPoints     analyst_id_y Quarter_y  ... Points PtsEst ErrorRate  \\\n",
       "0          11   benjenholdings   Q3 2021  ...     11   11.0     6.90%   \n",
       "1          11   benjenholdings   Q3 2021  ...    -11  -11.0    37.90%   \n",
       "2          11        BillB1210   Q3 2021  ...     11   11.0     6.90%   \n",
       "3          11        BillB1210   Q3 2021  ...    -11  -11.0    37.90%   \n",
       "4          11  Analyst_5883186   Q3 2021  ...     11   11.0     6.90%   \n",
       "\n",
       "  Accuracy what_search                                name       sector  \\\n",
       "0      74%         CYD  China Yuchai International Limited  Industrials   \n",
       "1      37%         CYD  China Yuchai International Limited  Industrials   \n",
       "2      74%         CYD  China Yuchai International Limited  Industrials   \n",
       "3      37%         CYD  China Yuchai International Limited  Industrials   \n",
       "4      74%         CYD  China Yuchai International Limited  Industrials   \n",
       "\n",
       "    industry  followers analysts  \n",
       "0  Machinery         22       40  \n",
       "1  Machinery         22       40  \n",
       "2  Machinery         22       40  \n",
       "3  Machinery         22       40  \n",
       "4  Machinery         22       40  \n",
       "\n",
       "[5 rows x 27 columns]"
      ]
     },
     "execution_count": 152,
     "metadata": {},
     "output_type": "execute_result"
    }
   ],
   "source": [
    "data.head()"
   ]
  },
  {
   "cell_type": "code",
   "execution_count": 153,
   "metadata": {},
   "outputs": [
    {
     "data": {
      "text/html": [
       "<div>\n",
       "<style scoped>\n",
       "    .dataframe tbody tr th:only-of-type {\n",
       "        vertical-align: middle;\n",
       "    }\n",
       "\n",
       "    .dataframe tbody tr th {\n",
       "        vertical-align: top;\n",
       "    }\n",
       "\n",
       "    .dataframe thead th {\n",
       "        text-align: right;\n",
       "    }\n",
       "</style>\n",
       "<table border=\"1\" class=\"dataframe\">\n",
       "  <thead>\n",
       "    <tr style=\"text-align: right;\">\n",
       "      <th></th>\n",
       "      <th>analyst_id_x</th>\n",
       "      <th>Ticker</th>\n",
       "      <th>Quarter_x</th>\n",
       "      <th>Reported</th>\n",
       "      <th>Rank</th>\n",
       "      <th>EpsPoints</th>\n",
       "      <th>RevenuePoints</th>\n",
       "      <th>TotalPoints</th>\n",
       "      <th>analyst_id_y</th>\n",
       "      <th>Quarter_y</th>\n",
       "      <th>...</th>\n",
       "      <th>Points</th>\n",
       "      <th>PtsEst</th>\n",
       "      <th>ErrorRate</th>\n",
       "      <th>Accuracy</th>\n",
       "      <th>what_search</th>\n",
       "      <th>name</th>\n",
       "      <th>sector</th>\n",
       "      <th>industry</th>\n",
       "      <th>followers</th>\n",
       "      <th>analysts</th>\n",
       "    </tr>\n",
       "  </thead>\n",
       "  <tbody>\n",
       "    <tr>\n",
       "      <th>0</th>\n",
       "      <td>yorel</td>\n",
       "      <td>CYD</td>\n",
       "      <td>Q3 2020</td>\n",
       "      <td>16-Nov-20</td>\n",
       "      <td>1/4</td>\n",
       "      <td>-2</td>\n",
       "      <td>13</td>\n",
       "      <td>11</td>\n",
       "      <td>benjenholdings</td>\n",
       "      <td>Q3 2021</td>\n",
       "      <td>...</td>\n",
       "      <td>11</td>\n",
       "      <td>11.0</td>\n",
       "      <td>6.90%</td>\n",
       "      <td>74%</td>\n",
       "      <td>CYD</td>\n",
       "      <td>China Yuchai International Limited</td>\n",
       "      <td>Industrials</td>\n",
       "      <td>Machinery</td>\n",
       "      <td>22</td>\n",
       "      <td>40</td>\n",
       "    </tr>\n",
       "    <tr>\n",
       "      <th>1</th>\n",
       "      <td>yorel</td>\n",
       "      <td>CYD</td>\n",
       "      <td>Q3 2020</td>\n",
       "      <td>16-Nov-20</td>\n",
       "      <td>1/4</td>\n",
       "      <td>-2</td>\n",
       "      <td>13</td>\n",
       "      <td>11</td>\n",
       "      <td>benjenholdings</td>\n",
       "      <td>Q3 2021</td>\n",
       "      <td>...</td>\n",
       "      <td>-11</td>\n",
       "      <td>-11.0</td>\n",
       "      <td>37.90%</td>\n",
       "      <td>37%</td>\n",
       "      <td>CYD</td>\n",
       "      <td>China Yuchai International Limited</td>\n",
       "      <td>Industrials</td>\n",
       "      <td>Machinery</td>\n",
       "      <td>22</td>\n",
       "      <td>40</td>\n",
       "    </tr>\n",
       "    <tr>\n",
       "      <th>2</th>\n",
       "      <td>yorel</td>\n",
       "      <td>CYD</td>\n",
       "      <td>Q3 2020</td>\n",
       "      <td>16-Nov-20</td>\n",
       "      <td>1/4</td>\n",
       "      <td>-2</td>\n",
       "      <td>13</td>\n",
       "      <td>11</td>\n",
       "      <td>BillB1210</td>\n",
       "      <td>Q3 2021</td>\n",
       "      <td>...</td>\n",
       "      <td>11</td>\n",
       "      <td>11.0</td>\n",
       "      <td>6.90%</td>\n",
       "      <td>74%</td>\n",
       "      <td>CYD</td>\n",
       "      <td>China Yuchai International Limited</td>\n",
       "      <td>Industrials</td>\n",
       "      <td>Machinery</td>\n",
       "      <td>22</td>\n",
       "      <td>40</td>\n",
       "    </tr>\n",
       "    <tr>\n",
       "      <th>3</th>\n",
       "      <td>yorel</td>\n",
       "      <td>CYD</td>\n",
       "      <td>Q3 2020</td>\n",
       "      <td>16-Nov-20</td>\n",
       "      <td>1/4</td>\n",
       "      <td>-2</td>\n",
       "      <td>13</td>\n",
       "      <td>11</td>\n",
       "      <td>BillB1210</td>\n",
       "      <td>Q3 2021</td>\n",
       "      <td>...</td>\n",
       "      <td>-11</td>\n",
       "      <td>-11.0</td>\n",
       "      <td>37.90%</td>\n",
       "      <td>37%</td>\n",
       "      <td>CYD</td>\n",
       "      <td>China Yuchai International Limited</td>\n",
       "      <td>Industrials</td>\n",
       "      <td>Machinery</td>\n",
       "      <td>22</td>\n",
       "      <td>40</td>\n",
       "    </tr>\n",
       "    <tr>\n",
       "      <th>4</th>\n",
       "      <td>yorel</td>\n",
       "      <td>CYD</td>\n",
       "      <td>Q3 2020</td>\n",
       "      <td>16-Nov-20</td>\n",
       "      <td>1/4</td>\n",
       "      <td>-2</td>\n",
       "      <td>13</td>\n",
       "      <td>11</td>\n",
       "      <td>Analyst_5883186</td>\n",
       "      <td>Q3 2021</td>\n",
       "      <td>...</td>\n",
       "      <td>11</td>\n",
       "      <td>11.0</td>\n",
       "      <td>6.90%</td>\n",
       "      <td>74%</td>\n",
       "      <td>CYD</td>\n",
       "      <td>China Yuchai International Limited</td>\n",
       "      <td>Industrials</td>\n",
       "      <td>Machinery</td>\n",
       "      <td>22</td>\n",
       "      <td>40</td>\n",
       "    </tr>\n",
       "  </tbody>\n",
       "</table>\n",
       "<p>5 rows × 27 columns</p>\n",
       "</div>"
      ],
      "text/plain": [
       "  analyst_id_x Ticker Quarter_x   Reported Rank EpsPoints RevenuePoints  \\\n",
       "0        yorel    CYD   Q3 2020  16-Nov-20  1/4        -2            13   \n",
       "1        yorel    CYD   Q3 2020  16-Nov-20  1/4        -2            13   \n",
       "2        yorel    CYD   Q3 2020  16-Nov-20  1/4        -2            13   \n",
       "3        yorel    CYD   Q3 2020  16-Nov-20  1/4        -2            13   \n",
       "4        yorel    CYD   Q3 2020  16-Nov-20  1/4        -2            13   \n",
       "\n",
       "  TotalPoints     analyst_id_y Quarter_y  ... Points PtsEst ErrorRate  \\\n",
       "0          11   benjenholdings   Q3 2021  ...     11   11.0     6.90%   \n",
       "1          11   benjenholdings   Q3 2021  ...    -11  -11.0    37.90%   \n",
       "2          11        BillB1210   Q3 2021  ...     11   11.0     6.90%   \n",
       "3          11        BillB1210   Q3 2021  ...    -11  -11.0    37.90%   \n",
       "4          11  Analyst_5883186   Q3 2021  ...     11   11.0     6.90%   \n",
       "\n",
       "  Accuracy what_search                                name       sector  \\\n",
       "0      74%         CYD  China Yuchai International Limited  Industrials   \n",
       "1      37%         CYD  China Yuchai International Limited  Industrials   \n",
       "2      74%         CYD  China Yuchai International Limited  Industrials   \n",
       "3      37%         CYD  China Yuchai International Limited  Industrials   \n",
       "4      74%         CYD  China Yuchai International Limited  Industrials   \n",
       "\n",
       "    industry  followers analysts  \n",
       "0  Machinery         22       40  \n",
       "1  Machinery         22       40  \n",
       "2  Machinery         22       40  \n",
       "3  Machinery         22       40  \n",
       "4  Machinery         22       40  \n",
       "\n",
       "[5 rows x 27 columns]"
      ]
     },
     "execution_count": 153,
     "metadata": {},
     "output_type": "execute_result"
    }
   ],
   "source": [
    "data.head()"
   ]
  },
  {
   "cell_type": "code",
   "execution_count": 154,
   "metadata": {},
   "outputs": [
    {
     "data": {
      "text/plain": [
       "Index(['analyst_id_x', 'Ticker', 'Quarter_x', 'Reported', 'Rank', 'EpsPoints',\n",
       "       'RevenuePoints', 'TotalPoints', 'analyst_id_y', 'Quarter_y',\n",
       "       'Reports_x', 'Published', 'EPS', 'Revenue', 'analyst_id', 'Reports_y',\n",
       "       'Quarters', 'Points', 'PtsEst', 'ErrorRate', 'Accuracy', 'what_search',\n",
       "       'name', 'sector', 'industry', 'followers', 'analysts'],\n",
       "      dtype='object')"
      ]
     },
     "execution_count": 154,
     "metadata": {},
     "output_type": "execute_result"
    }
   ],
   "source": [
    "data.columns"
   ]
  },
  {
   "cell_type": "code",
   "execution_count": 155,
   "metadata": {},
   "outputs": [
    {
     "data": {
      "text/html": [
       "<div>\n",
       "<style scoped>\n",
       "    .dataframe tbody tr th:only-of-type {\n",
       "        vertical-align: middle;\n",
       "    }\n",
       "\n",
       "    .dataframe tbody tr th {\n",
       "        vertical-align: top;\n",
       "    }\n",
       "\n",
       "    .dataframe thead th {\n",
       "        text-align: right;\n",
       "    }\n",
       "</style>\n",
       "<table border=\"1\" class=\"dataframe\">\n",
       "  <thead>\n",
       "    <tr style=\"text-align: right;\">\n",
       "      <th></th>\n",
       "      <th>Quarters</th>\n",
       "      <th>Points</th>\n",
       "      <th>PtsEst</th>\n",
       "      <th>followers</th>\n",
       "      <th>analysts</th>\n",
       "    </tr>\n",
       "  </thead>\n",
       "  <tbody>\n",
       "    <tr>\n",
       "      <th>count</th>\n",
       "      <td>22614.000000</td>\n",
       "      <td>22614.000000</td>\n",
       "      <td>22614.000000</td>\n",
       "      <td>22614.000000</td>\n",
       "      <td>22614.000000</td>\n",
       "    </tr>\n",
       "    <tr>\n",
       "      <th>mean</th>\n",
       "      <td>1.936544</td>\n",
       "      <td>3.336561</td>\n",
       "      <td>-2.663894</td>\n",
       "      <td>228.254311</td>\n",
       "      <td>185.239807</td>\n",
       "    </tr>\n",
       "    <tr>\n",
       "      <th>std</th>\n",
       "      <td>2.042206</td>\n",
       "      <td>29.746484</td>\n",
       "      <td>10.167725</td>\n",
       "      <td>95.558692</td>\n",
       "      <td>71.869640</td>\n",
       "    </tr>\n",
       "    <tr>\n",
       "      <th>min</th>\n",
       "      <td>1.000000</td>\n",
       "      <td>-90.000000</td>\n",
       "      <td>-35.500000</td>\n",
       "      <td>19.000000</td>\n",
       "      <td>23.000000</td>\n",
       "    </tr>\n",
       "    <tr>\n",
       "      <th>25%</th>\n",
       "      <td>1.000000</td>\n",
       "      <td>-8.000000</td>\n",
       "      <td>-8.000000</td>\n",
       "      <td>277.000000</td>\n",
       "      <td>221.000000</td>\n",
       "    </tr>\n",
       "    <tr>\n",
       "      <th>50%</th>\n",
       "      <td>1.000000</td>\n",
       "      <td>-8.000000</td>\n",
       "      <td>-8.000000</td>\n",
       "      <td>277.000000</td>\n",
       "      <td>221.000000</td>\n",
       "    </tr>\n",
       "    <tr>\n",
       "      <th>75%</th>\n",
       "      <td>1.000000</td>\n",
       "      <td>1.000000</td>\n",
       "      <td>0.100000</td>\n",
       "      <td>277.000000</td>\n",
       "      <td>221.000000</td>\n",
       "    </tr>\n",
       "    <tr>\n",
       "      <th>max</th>\n",
       "      <td>31.000000</td>\n",
       "      <td>220.000000</td>\n",
       "      <td>34.000000</td>\n",
       "      <td>277.000000</td>\n",
       "      <td>221.000000</td>\n",
       "    </tr>\n",
       "  </tbody>\n",
       "</table>\n",
       "</div>"
      ],
      "text/plain": [
       "           Quarters        Points        PtsEst     followers      analysts\n",
       "count  22614.000000  22614.000000  22614.000000  22614.000000  22614.000000\n",
       "mean       1.936544      3.336561     -2.663894    228.254311    185.239807\n",
       "std        2.042206     29.746484     10.167725     95.558692     71.869640\n",
       "min        1.000000    -90.000000    -35.500000     19.000000     23.000000\n",
       "25%        1.000000     -8.000000     -8.000000    277.000000    221.000000\n",
       "50%        1.000000     -8.000000     -8.000000    277.000000    221.000000\n",
       "75%        1.000000      1.000000      0.100000    277.000000    221.000000\n",
       "max       31.000000    220.000000     34.000000    277.000000    221.000000"
      ]
     },
     "execution_count": 155,
     "metadata": {},
     "output_type": "execute_result"
    }
   ],
   "source": [
    "data.describe()"
   ]
  },
  {
   "cell_type": "code",
   "execution_count": 156,
   "metadata": {},
   "outputs": [],
   "source": [
    "#data = data[data.errorrate != '-']\n"
   ]
  },
  {
   "cell_type": "code",
   "execution_count": 157,
   "metadata": {},
   "outputs": [
    {
     "data": {
      "text/plain": [
       "(22614, 27)"
      ]
     },
     "execution_count": 157,
     "metadata": {},
     "output_type": "execute_result"
    }
   ],
   "source": [
    "data.shape"
   ]
  },
  {
   "cell_type": "code",
   "execution_count": 158,
   "metadata": {},
   "outputs": [
    {
     "data": {
      "text/html": [
       "<div>\n",
       "<style scoped>\n",
       "    .dataframe tbody tr th:only-of-type {\n",
       "        vertical-align: middle;\n",
       "    }\n",
       "\n",
       "    .dataframe tbody tr th {\n",
       "        vertical-align: top;\n",
       "    }\n",
       "\n",
       "    .dataframe thead th {\n",
       "        text-align: right;\n",
       "    }\n",
       "</style>\n",
       "<table border=\"1\" class=\"dataframe\">\n",
       "  <thead>\n",
       "    <tr style=\"text-align: right;\">\n",
       "      <th></th>\n",
       "      <th>analyst_id_x</th>\n",
       "      <th>Ticker</th>\n",
       "      <th>Quarter_x</th>\n",
       "      <th>Reported</th>\n",
       "      <th>Rank</th>\n",
       "      <th>EpsPoints</th>\n",
       "      <th>RevenuePoints</th>\n",
       "      <th>TotalPoints</th>\n",
       "      <th>analyst_id_y</th>\n",
       "      <th>Quarter_y</th>\n",
       "      <th>...</th>\n",
       "      <th>Points</th>\n",
       "      <th>PtsEst</th>\n",
       "      <th>ErrorRate</th>\n",
       "      <th>Accuracy</th>\n",
       "      <th>what_search</th>\n",
       "      <th>name</th>\n",
       "      <th>sector</th>\n",
       "      <th>industry</th>\n",
       "      <th>followers</th>\n",
       "      <th>analysts</th>\n",
       "    </tr>\n",
       "  </thead>\n",
       "  <tbody>\n",
       "    <tr>\n",
       "      <th>0</th>\n",
       "      <td>yorel</td>\n",
       "      <td>CYD</td>\n",
       "      <td>Q3 2020</td>\n",
       "      <td>16-Nov-20</td>\n",
       "      <td>1/4</td>\n",
       "      <td>-2</td>\n",
       "      <td>13</td>\n",
       "      <td>11</td>\n",
       "      <td>benjenholdings</td>\n",
       "      <td>Q3 2021</td>\n",
       "      <td>...</td>\n",
       "      <td>11</td>\n",
       "      <td>11.0</td>\n",
       "      <td>6.90%</td>\n",
       "      <td>74%</td>\n",
       "      <td>CYD</td>\n",
       "      <td>China Yuchai International Limited</td>\n",
       "      <td>Industrials</td>\n",
       "      <td>Machinery</td>\n",
       "      <td>22</td>\n",
       "      <td>40</td>\n",
       "    </tr>\n",
       "    <tr>\n",
       "      <th>1</th>\n",
       "      <td>yorel</td>\n",
       "      <td>CYD</td>\n",
       "      <td>Q3 2020</td>\n",
       "      <td>16-Nov-20</td>\n",
       "      <td>1/4</td>\n",
       "      <td>-2</td>\n",
       "      <td>13</td>\n",
       "      <td>11</td>\n",
       "      <td>benjenholdings</td>\n",
       "      <td>Q3 2021</td>\n",
       "      <td>...</td>\n",
       "      <td>-11</td>\n",
       "      <td>-11.0</td>\n",
       "      <td>37.90%</td>\n",
       "      <td>37%</td>\n",
       "      <td>CYD</td>\n",
       "      <td>China Yuchai International Limited</td>\n",
       "      <td>Industrials</td>\n",
       "      <td>Machinery</td>\n",
       "      <td>22</td>\n",
       "      <td>40</td>\n",
       "    </tr>\n",
       "    <tr>\n",
       "      <th>2</th>\n",
       "      <td>yorel</td>\n",
       "      <td>CYD</td>\n",
       "      <td>Q3 2020</td>\n",
       "      <td>16-Nov-20</td>\n",
       "      <td>1/4</td>\n",
       "      <td>-2</td>\n",
       "      <td>13</td>\n",
       "      <td>11</td>\n",
       "      <td>BillB1210</td>\n",
       "      <td>Q3 2021</td>\n",
       "      <td>...</td>\n",
       "      <td>11</td>\n",
       "      <td>11.0</td>\n",
       "      <td>6.90%</td>\n",
       "      <td>74%</td>\n",
       "      <td>CYD</td>\n",
       "      <td>China Yuchai International Limited</td>\n",
       "      <td>Industrials</td>\n",
       "      <td>Machinery</td>\n",
       "      <td>22</td>\n",
       "      <td>40</td>\n",
       "    </tr>\n",
       "    <tr>\n",
       "      <th>3</th>\n",
       "      <td>yorel</td>\n",
       "      <td>CYD</td>\n",
       "      <td>Q3 2020</td>\n",
       "      <td>16-Nov-20</td>\n",
       "      <td>1/4</td>\n",
       "      <td>-2</td>\n",
       "      <td>13</td>\n",
       "      <td>11</td>\n",
       "      <td>BillB1210</td>\n",
       "      <td>Q3 2021</td>\n",
       "      <td>...</td>\n",
       "      <td>-11</td>\n",
       "      <td>-11.0</td>\n",
       "      <td>37.90%</td>\n",
       "      <td>37%</td>\n",
       "      <td>CYD</td>\n",
       "      <td>China Yuchai International Limited</td>\n",
       "      <td>Industrials</td>\n",
       "      <td>Machinery</td>\n",
       "      <td>22</td>\n",
       "      <td>40</td>\n",
       "    </tr>\n",
       "    <tr>\n",
       "      <th>4</th>\n",
       "      <td>yorel</td>\n",
       "      <td>CYD</td>\n",
       "      <td>Q3 2020</td>\n",
       "      <td>16-Nov-20</td>\n",
       "      <td>1/4</td>\n",
       "      <td>-2</td>\n",
       "      <td>13</td>\n",
       "      <td>11</td>\n",
       "      <td>Analyst_5883186</td>\n",
       "      <td>Q3 2021</td>\n",
       "      <td>...</td>\n",
       "      <td>11</td>\n",
       "      <td>11.0</td>\n",
       "      <td>6.90%</td>\n",
       "      <td>74%</td>\n",
       "      <td>CYD</td>\n",
       "      <td>China Yuchai International Limited</td>\n",
       "      <td>Industrials</td>\n",
       "      <td>Machinery</td>\n",
       "      <td>22</td>\n",
       "      <td>40</td>\n",
       "    </tr>\n",
       "  </tbody>\n",
       "</table>\n",
       "<p>5 rows × 27 columns</p>\n",
       "</div>"
      ],
      "text/plain": [
       "  analyst_id_x Ticker Quarter_x   Reported Rank EpsPoints RevenuePoints  \\\n",
       "0        yorel    CYD   Q3 2020  16-Nov-20  1/4        -2            13   \n",
       "1        yorel    CYD   Q3 2020  16-Nov-20  1/4        -2            13   \n",
       "2        yorel    CYD   Q3 2020  16-Nov-20  1/4        -2            13   \n",
       "3        yorel    CYD   Q3 2020  16-Nov-20  1/4        -2            13   \n",
       "4        yorel    CYD   Q3 2020  16-Nov-20  1/4        -2            13   \n",
       "\n",
       "  TotalPoints     analyst_id_y Quarter_y  ... Points PtsEst ErrorRate  \\\n",
       "0          11   benjenholdings   Q3 2021  ...     11   11.0     6.90%   \n",
       "1          11   benjenholdings   Q3 2021  ...    -11  -11.0    37.90%   \n",
       "2          11        BillB1210   Q3 2021  ...     11   11.0     6.90%   \n",
       "3          11        BillB1210   Q3 2021  ...    -11  -11.0    37.90%   \n",
       "4          11  Analyst_5883186   Q3 2021  ...     11   11.0     6.90%   \n",
       "\n",
       "  Accuracy what_search                                name       sector  \\\n",
       "0      74%         CYD  China Yuchai International Limited  Industrials   \n",
       "1      37%         CYD  China Yuchai International Limited  Industrials   \n",
       "2      74%         CYD  China Yuchai International Limited  Industrials   \n",
       "3      37%         CYD  China Yuchai International Limited  Industrials   \n",
       "4      74%         CYD  China Yuchai International Limited  Industrials   \n",
       "\n",
       "    industry  followers analysts  \n",
       "0  Machinery         22       40  \n",
       "1  Machinery         22       40  \n",
       "2  Machinery         22       40  \n",
       "3  Machinery         22       40  \n",
       "4  Machinery         22       40  \n",
       "\n",
       "[5 rows x 27 columns]"
      ]
     },
     "execution_count": 158,
     "metadata": {},
     "output_type": "execute_result"
    }
   ],
   "source": [
    "data.head()"
   ]
  },
  {
   "cell_type": "code",
   "execution_count": 159,
   "metadata": {},
   "outputs": [
    {
     "data": {
      "text/plain": [
       "5"
      ]
     },
     "execution_count": 159,
     "metadata": {},
     "output_type": "execute_result"
    }
   ],
   "source": [
    "data.Quarter_y.nunique()"
   ]
  },
  {
   "cell_type": "code",
   "execution_count": 160,
   "metadata": {},
   "outputs": [
    {
     "name": "stderr",
     "output_type": "stream",
     "text": [
      "<ipython-input-160-47c6a5ee10bd>:1: SettingWithCopyWarning: \n",
      "A value is trying to be set on a copy of a slice from a DataFrame.\n",
      "Try using .loc[row_indexer,col_indexer] = value instead\n",
      "\n",
      "See the caveats in the documentation: https://pandas.pydata.org/pandas-docs/stable/user_guide/indexing.html#returning-a-view-versus-a-copy\n",
      "  data['ErrorRate'] = (data['ErrorRate'].str.strip('%').astype(float))\n",
      "<ipython-input-160-47c6a5ee10bd>:2: SettingWithCopyWarning: \n",
      "A value is trying to be set on a copy of a slice from a DataFrame.\n",
      "Try using .loc[row_indexer,col_indexer] = value instead\n",
      "\n",
      "See the caveats in the documentation: https://pandas.pydata.org/pandas-docs/stable/user_guide/indexing.html#returning-a-view-versus-a-copy\n",
      "  data['Accuracy'] = (data['Accuracy'].str.strip('%').astype(float))\n"
     ]
    }
   ],
   "source": [
    "data['ErrorRate'] = (data['ErrorRate'].str.strip('%').astype(float))\n",
    "data['Accuracy'] = (data['Accuracy'].str.strip('%').astype(float))\n"
   ]
  },
  {
   "cell_type": "code",
   "execution_count": 161,
   "metadata": {},
   "outputs": [
    {
     "data": {
      "text/plain": [
       "0        622.26\n",
       "1        622.26\n",
       "2        625.26\n",
       "3        625.26\n",
       "4        620.26\n",
       "          ...  \n",
       "43469       273\n",
       "43470       273\n",
       "43471       273\n",
       "43472       273\n",
       "43473       273\n",
       "Name: Revenue, Length: 22614, dtype: object"
      ]
     },
     "execution_count": 161,
     "metadata": {},
     "output_type": "execute_result"
    }
   ],
   "source": [
    "data.Revenue"
   ]
  },
  {
   "cell_type": "code",
   "execution_count": 162,
   "metadata": {},
   "outputs": [
    {
     "data": {
      "text/plain": [
       "Index(['analyst_id_x', 'Ticker', 'Quarter_x', 'Reported', 'Rank', 'EpsPoints',\n",
       "       'RevenuePoints', 'TotalPoints', 'analyst_id_y', 'Quarter_y',\n",
       "       'Reports_x', 'Published', 'EPS', 'Revenue', 'analyst_id', 'Reports_y',\n",
       "       'Quarters', 'Points', 'PtsEst', 'ErrorRate', 'Accuracy', 'what_search',\n",
       "       'name', 'sector', 'industry', 'followers', 'analysts'],\n",
       "      dtype='object')"
      ]
     },
     "execution_count": 162,
     "metadata": {},
     "output_type": "execute_result"
    }
   ],
   "source": [
    "data.columns"
   ]
  },
  {
   "cell_type": "code",
   "execution_count": 163,
   "metadata": {},
   "outputs": [
    {
     "name": "stderr",
     "output_type": "stream",
     "text": [
      "<ipython-input-163-23209456c865>:1: SettingWithCopyWarning: \n",
      "A value is trying to be set on a copy of a slice from a DataFrame.\n",
      "Try using .loc[row_indexer,col_indexer] = value instead\n",
      "\n",
      "See the caveats in the documentation: https://pandas.pydata.org/pandas-docs/stable/user_guide/indexing.html#returning-a-view-versus-a-copy\n",
      "  data['EpsPoints'] = data['EpsPoints'].astype(float)\n",
      "<ipython-input-163-23209456c865>:2: SettingWithCopyWarning: \n",
      "A value is trying to be set on a copy of a slice from a DataFrame.\n",
      "Try using .loc[row_indexer,col_indexer] = value instead\n",
      "\n",
      "See the caveats in the documentation: https://pandas.pydata.org/pandas-docs/stable/user_guide/indexing.html#returning-a-view-versus-a-copy\n",
      "  data['RevenuePoints'] = data['RevenuePoints'].astype(float)\n",
      "<ipython-input-163-23209456c865>:3: SettingWithCopyWarning: \n",
      "A value is trying to be set on a copy of a slice from a DataFrame.\n",
      "Try using .loc[row_indexer,col_indexer] = value instead\n",
      "\n",
      "See the caveats in the documentation: https://pandas.pydata.org/pandas-docs/stable/user_guide/indexing.html#returning-a-view-versus-a-copy\n",
      "  data['TotalPoints'] = data['TotalPoints'].astype(float)\n",
      "<ipython-input-163-23209456c865>:4: SettingWithCopyWarning: \n",
      "A value is trying to be set on a copy of a slice from a DataFrame.\n",
      "Try using .loc[row_indexer,col_indexer] = value instead\n",
      "\n",
      "See the caveats in the documentation: https://pandas.pydata.org/pandas-docs/stable/user_guide/indexing.html#returning-a-view-versus-a-copy\n",
      "  data['EPS'] = data['EPS'].astype(float)\n",
      "<ipython-input-163-23209456c865>:5: SettingWithCopyWarning: \n",
      "A value is trying to be set on a copy of a slice from a DataFrame.\n",
      "Try using .loc[row_indexer,col_indexer] = value instead\n",
      "\n",
      "See the caveats in the documentation: https://pandas.pydata.org/pandas-docs/stable/user_guide/indexing.html#returning-a-view-versus-a-copy\n",
      "  data['ErrorRate'] = data['ErrorRate'].astype(float)\n",
      "<ipython-input-163-23209456c865>:6: SettingWithCopyWarning: \n",
      "A value is trying to be set on a copy of a slice from a DataFrame.\n",
      "Try using .loc[row_indexer,col_indexer] = value instead\n",
      "\n",
      "See the caveats in the documentation: https://pandas.pydata.org/pandas-docs/stable/user_guide/indexing.html#returning-a-view-versus-a-copy\n",
      "  data['Accuracy'] = data['Accuracy'].astype(float)\n"
     ]
    }
   ],
   "source": [
    "data['EpsPoints'] = data['EpsPoints'].astype(float)\n",
    "data['RevenuePoints'] = data['RevenuePoints'].astype(float)\n",
    "data['TotalPoints'] = data['TotalPoints'].astype(float)\n",
    "data['EPS'] = data['EPS'].astype(float)\n",
    "data['ErrorRate'] = data['ErrorRate'].astype(float)\n",
    "data['Accuracy'] = data['Accuracy'].astype(float)\n",
    "\n",
    "\n",
    "#data['confidence_score'] = data['confidence_score'].astype(float)\n",
    "#data['errorrate'] = data['errorrate'].astype(float)\n",
    "#data['Rank'] = data['Rank'].astype(float)\n",
    "#data['Rank'] = float(data['Rank'])\n",
    "#data['Revenue'] = data['Revenue'].astype(float)\n",
    "\n"
   ]
  },
  {
   "cell_type": "code",
   "execution_count": 164,
   "metadata": {},
   "outputs": [
    {
     "name": "stdout",
     "output_type": "stream",
     "text": [
      "<class 'pandas.core.frame.DataFrame'>\n",
      "Int64Index: 22614 entries, 0 to 43473\n",
      "Data columns (total 27 columns):\n",
      " #   Column         Non-Null Count  Dtype  \n",
      "---  ------         --------------  -----  \n",
      " 0   analyst_id_x   22614 non-null  object \n",
      " 1   Ticker         22614 non-null  object \n",
      " 2   Quarter_x      22614 non-null  object \n",
      " 3   Reported       22614 non-null  object \n",
      " 4   Rank           22614 non-null  object \n",
      " 5   EpsPoints      22614 non-null  float64\n",
      " 6   RevenuePoints  22614 non-null  float64\n",
      " 7   TotalPoints    22614 non-null  float64\n",
      " 8   analyst_id_y   22614 non-null  object \n",
      " 9   Quarter_y      22614 non-null  object \n",
      " 10  Reports_x      22614 non-null  object \n",
      " 11  Published      22614 non-null  object \n",
      " 12  EPS            22614 non-null  float64\n",
      " 13  Revenue        22614 non-null  object \n",
      " 14  analyst_id     22614 non-null  object \n",
      " 15  Reports_y      22614 non-null  object \n",
      " 16  Quarters       22614 non-null  int64  \n",
      " 17  Points         22614 non-null  int64  \n",
      " 18  PtsEst         22614 non-null  float64\n",
      " 19  ErrorRate      22614 non-null  float64\n",
      " 20  Accuracy       22614 non-null  float64\n",
      " 21  what_search    22614 non-null  object \n",
      " 22  name           22614 non-null  object \n",
      " 23  sector         22614 non-null  object \n",
      " 24  industry       22614 non-null  object \n",
      " 25  followers      22614 non-null  int64  \n",
      " 26  analysts       22614 non-null  int64  \n",
      "dtypes: float64(7), int64(4), object(16)\n",
      "memory usage: 4.8+ MB\n"
     ]
    }
   ],
   "source": [
    "data.info()"
   ]
  },
  {
   "cell_type": "code",
   "execution_count": 165,
   "metadata": {},
   "outputs": [],
   "source": [
    "data = data[['EpsPoints','RevenuePoints','TotalPoints','EPS','Points','PtsEst','ErrorRate','Accuracy','followers','analysts','Ticker']]"
   ]
  },
  {
   "cell_type": "code",
   "execution_count": 166,
   "metadata": {},
   "outputs": [
    {
     "data": {
      "text/plain": [
       "Index(['EpsPoints', 'RevenuePoints', 'TotalPoints', 'EPS', 'Points', 'PtsEst',\n",
       "       'ErrorRate', 'Accuracy', 'followers', 'analysts', 'Ticker'],\n",
       "      dtype='object')"
      ]
     },
     "execution_count": 166,
     "metadata": {},
     "output_type": "execute_result"
    }
   ],
   "source": [
    "data.columns"
   ]
  },
  {
   "cell_type": "code",
   "execution_count": 167,
   "metadata": {},
   "outputs": [],
   "source": [
    "#final_data = pd.get_dummies(data.Ticker, prefix='Ticker')\n",
    "final_data = pd.get_dummies(data, columns = ['Ticker'])\n"
   ]
  },
  {
   "cell_type": "code",
   "execution_count": 168,
   "metadata": {},
   "outputs": [
    {
     "data": {
      "text/plain": [
       "(22614, 11)"
      ]
     },
     "execution_count": 168,
     "metadata": {},
     "output_type": "execute_result"
    }
   ],
   "source": [
    "data.shape"
   ]
  },
  {
   "cell_type": "code",
   "execution_count": 169,
   "metadata": {},
   "outputs": [
    {
     "data": {
      "text/plain": [
       "(22614, 26)"
      ]
     },
     "execution_count": 169,
     "metadata": {},
     "output_type": "execute_result"
    }
   ],
   "source": [
    "final_data.shape"
   ]
  },
  {
   "cell_type": "code",
   "execution_count": 170,
   "metadata": {},
   "outputs": [
    {
     "data": {
      "text/html": [
       "<div>\n",
       "<style scoped>\n",
       "    .dataframe tbody tr th:only-of-type {\n",
       "        vertical-align: middle;\n",
       "    }\n",
       "\n",
       "    .dataframe tbody tr th {\n",
       "        vertical-align: top;\n",
       "    }\n",
       "\n",
       "    .dataframe thead th {\n",
       "        text-align: right;\n",
       "    }\n",
       "</style>\n",
       "<table border=\"1\" class=\"dataframe\">\n",
       "  <thead>\n",
       "    <tr style=\"text-align: right;\">\n",
       "      <th></th>\n",
       "      <th>EpsPoints</th>\n",
       "      <th>RevenuePoints</th>\n",
       "      <th>TotalPoints</th>\n",
       "      <th>EPS</th>\n",
       "      <th>Points</th>\n",
       "      <th>PtsEst</th>\n",
       "      <th>ErrorRate</th>\n",
       "      <th>Accuracy</th>\n",
       "      <th>followers</th>\n",
       "      <th>analysts</th>\n",
       "      <th>...</th>\n",
       "      <th>Ticker_EPAY</th>\n",
       "      <th>Ticker_EVBG</th>\n",
       "      <th>Ticker_FROG</th>\n",
       "      <th>Ticker_KGC</th>\n",
       "      <th>Ticker_KOP</th>\n",
       "      <th>Ticker_MMSI</th>\n",
       "      <th>Ticker_MTRX</th>\n",
       "      <th>Ticker_OXY</th>\n",
       "      <th>Ticker_PHM</th>\n",
       "      <th>Ticker_WTI</th>\n",
       "    </tr>\n",
       "  </thead>\n",
       "  <tbody>\n",
       "    <tr>\n",
       "      <th>0</th>\n",
       "      <td>0.46</td>\n",
       "      <td>0.76</td>\n",
       "      <td>0.595506</td>\n",
       "      <td>0.559524</td>\n",
       "      <td>0.325806</td>\n",
       "      <td>0.669065</td>\n",
       "      <td>0.104305</td>\n",
       "      <td>0.841463</td>\n",
       "      <td>0.011628</td>\n",
       "      <td>0.085859</td>\n",
       "      <td>...</td>\n",
       "      <td>0</td>\n",
       "      <td>0</td>\n",
       "      <td>0</td>\n",
       "      <td>0</td>\n",
       "      <td>0</td>\n",
       "      <td>0</td>\n",
       "      <td>0</td>\n",
       "      <td>0</td>\n",
       "      <td>0</td>\n",
       "      <td>0</td>\n",
       "    </tr>\n",
       "    <tr>\n",
       "      <th>1</th>\n",
       "      <td>0.46</td>\n",
       "      <td>0.76</td>\n",
       "      <td>0.595506</td>\n",
       "      <td>0.559524</td>\n",
       "      <td>0.254839</td>\n",
       "      <td>0.352518</td>\n",
       "      <td>0.617550</td>\n",
       "      <td>0.390244</td>\n",
       "      <td>0.011628</td>\n",
       "      <td>0.085859</td>\n",
       "      <td>...</td>\n",
       "      <td>0</td>\n",
       "      <td>0</td>\n",
       "      <td>0</td>\n",
       "      <td>0</td>\n",
       "      <td>0</td>\n",
       "      <td>0</td>\n",
       "      <td>0</td>\n",
       "      <td>0</td>\n",
       "      <td>0</td>\n",
       "      <td>0</td>\n",
       "    </tr>\n",
       "    <tr>\n",
       "      <th>2</th>\n",
       "      <td>0.46</td>\n",
       "      <td>0.76</td>\n",
       "      <td>0.595506</td>\n",
       "      <td>0.561508</td>\n",
       "      <td>0.325806</td>\n",
       "      <td>0.669065</td>\n",
       "      <td>0.104305</td>\n",
       "      <td>0.841463</td>\n",
       "      <td>0.011628</td>\n",
       "      <td>0.085859</td>\n",
       "      <td>...</td>\n",
       "      <td>0</td>\n",
       "      <td>0</td>\n",
       "      <td>0</td>\n",
       "      <td>0</td>\n",
       "      <td>0</td>\n",
       "      <td>0</td>\n",
       "      <td>0</td>\n",
       "      <td>0</td>\n",
       "      <td>0</td>\n",
       "      <td>0</td>\n",
       "    </tr>\n",
       "    <tr>\n",
       "      <th>3</th>\n",
       "      <td>0.46</td>\n",
       "      <td>0.76</td>\n",
       "      <td>0.595506</td>\n",
       "      <td>0.561508</td>\n",
       "      <td>0.254839</td>\n",
       "      <td>0.352518</td>\n",
       "      <td>0.617550</td>\n",
       "      <td>0.390244</td>\n",
       "      <td>0.011628</td>\n",
       "      <td>0.085859</td>\n",
       "      <td>...</td>\n",
       "      <td>0</td>\n",
       "      <td>0</td>\n",
       "      <td>0</td>\n",
       "      <td>0</td>\n",
       "      <td>0</td>\n",
       "      <td>0</td>\n",
       "      <td>0</td>\n",
       "      <td>0</td>\n",
       "      <td>0</td>\n",
       "      <td>0</td>\n",
       "    </tr>\n",
       "    <tr>\n",
       "      <th>4</th>\n",
       "      <td>0.46</td>\n",
       "      <td>0.76</td>\n",
       "      <td>0.595506</td>\n",
       "      <td>0.561508</td>\n",
       "      <td>0.325806</td>\n",
       "      <td>0.669065</td>\n",
       "      <td>0.104305</td>\n",
       "      <td>0.841463</td>\n",
       "      <td>0.011628</td>\n",
       "      <td>0.085859</td>\n",
       "      <td>...</td>\n",
       "      <td>0</td>\n",
       "      <td>0</td>\n",
       "      <td>0</td>\n",
       "      <td>0</td>\n",
       "      <td>0</td>\n",
       "      <td>0</td>\n",
       "      <td>0</td>\n",
       "      <td>0</td>\n",
       "      <td>0</td>\n",
       "      <td>0</td>\n",
       "    </tr>\n",
       "  </tbody>\n",
       "</table>\n",
       "<p>5 rows × 26 columns</p>\n",
       "</div>"
      ],
      "text/plain": [
       "   EpsPoints  RevenuePoints  TotalPoints       EPS    Points    PtsEst  \\\n",
       "0       0.46           0.76     0.595506  0.559524  0.325806  0.669065   \n",
       "1       0.46           0.76     0.595506  0.559524  0.254839  0.352518   \n",
       "2       0.46           0.76     0.595506  0.561508  0.325806  0.669065   \n",
       "3       0.46           0.76     0.595506  0.561508  0.254839  0.352518   \n",
       "4       0.46           0.76     0.595506  0.561508  0.325806  0.669065   \n",
       "\n",
       "   ErrorRate  Accuracy  followers  analysts  ...  Ticker_EPAY  Ticker_EVBG  \\\n",
       "0   0.104305  0.841463   0.011628  0.085859  ...            0            0   \n",
       "1   0.617550  0.390244   0.011628  0.085859  ...            0            0   \n",
       "2   0.104305  0.841463   0.011628  0.085859  ...            0            0   \n",
       "3   0.617550  0.390244   0.011628  0.085859  ...            0            0   \n",
       "4   0.104305  0.841463   0.011628  0.085859  ...            0            0   \n",
       "\n",
       "   Ticker_FROG  Ticker_KGC  Ticker_KOP  Ticker_MMSI  Ticker_MTRX  Ticker_OXY  \\\n",
       "0            0           0           0            0            0           0   \n",
       "1            0           0           0            0            0           0   \n",
       "2            0           0           0            0            0           0   \n",
       "3            0           0           0            0            0           0   \n",
       "4            0           0           0            0            0           0   \n",
       "\n",
       "   Ticker_PHM  Ticker_WTI  \n",
       "0           0           0  \n",
       "1           0           0  \n",
       "2           0           0  \n",
       "3           0           0  \n",
       "4           0           0  \n",
       "\n",
       "[5 rows x 26 columns]"
      ]
     },
     "execution_count": 170,
     "metadata": {},
     "output_type": "execute_result"
    }
   ],
   "source": [
    "#Normalizing the numerical features : \n",
    "\n",
    "from sklearn import preprocessing\n",
    "scaler = preprocessing.MinMaxScaler()\n",
    "#min_max_scaler = MinMaxScaler()\n",
    "names = final_data.columns\n",
    "final_data[['EpsPoints', 'RevenuePoints', 'TotalPoints', 'EPS', 'Points', 'PtsEst',\n",
    "       'ErrorRate', 'Accuracy', 'followers', 'analysts']] = scaler.fit_transform(final_data[['EpsPoints', 'RevenuePoints', 'TotalPoints', 'EPS', 'Points', 'PtsEst',\n",
    "       'ErrorRate', 'Accuracy', 'followers', 'analysts']])\n",
    "final_data.head()"
   ]
  },
  {
   "cell_type": "code",
   "execution_count": 171,
   "metadata": {},
   "outputs": [],
   "source": [
    "from sklearn.model_selection import train_test_split\n",
    "X = final_data.drop(['PtsEst'], axis=1)\n",
    "Y = final_data[['PtsEst']]\n",
    "\n",
    "#Test size data is 33.33% and train size data is 66.66%\n",
    "x_train, x_test, y_train, y_test = train_test_split(X, Y, test_size=0.33, random_state=42)"
   ]
  },
  {
   "cell_type": "code",
   "execution_count": 172,
   "metadata": {},
   "outputs": [
    {
     "name": "stdout",
     "output_type": "stream",
     "text": [
      "(15151, 25)\n",
      "(15151, 1)\n",
      "(7463, 25)\n",
      "(7463, 1)\n"
     ]
    }
   ],
   "source": [
    "print(x_train.shape)\n",
    "print(y_train.shape)\n",
    "print(x_test.shape)\n",
    "print(y_test.shape)"
   ]
  },
  {
   "cell_type": "code",
   "execution_count": 173,
   "metadata": {},
   "outputs": [
    {
     "data": {
      "text/plain": [
       "LinearRegression()"
      ]
     },
     "execution_count": 173,
     "metadata": {},
     "output_type": "execute_result"
    }
   ],
   "source": [
    "from sklearn.linear_model import LinearRegression\n",
    "model = LinearRegression()\n",
    "model.fit(x_train, y_train)\n"
   ]
  },
  {
   "cell_type": "code",
   "execution_count": 174,
   "metadata": {},
   "outputs": [],
   "source": [
    "y_pred = model.predict(x_test)"
   ]
  },
  {
   "cell_type": "code",
   "execution_count": 175,
   "metadata": {},
   "outputs": [
    {
     "name": "stdout",
     "output_type": "stream",
     "text": [
      "coefficient of determination: 0.8895039709699961\n",
      "intercept: [8.85054619e+10]\n",
      "slope: [[ 2.60918072e+11  2.60918072e+11 -4.64434169e+11  4.29086306e-03\n",
      "   3.62972083e-01 -1.70001376e-01  4.74431916e-01  9.52903875e+11\n",
      "   3.48853476e+10 -3.17755736e+11 -1.44151649e+11 -1.74579999e+11\n",
      "  -2.51443723e+11 -1.60334862e+11 -1.44327838e+11 -2.24721869e+11\n",
      "  -1.67891367e+11 -2.22588000e+11 -3.84074283e+11 -1.33071371e+11\n",
      "  -2.01850025e+11 -1.54533707e+11 -1.11804158e+12 -6.14828573e+11\n",
      "  -3.39922826e+11]]\n"
     ]
    }
   ],
   "source": [
    "r_sq = model.score(x_train, y_train)\n",
    "print('coefficient of determination:', r_sq)\n",
    "print('intercept:', model.intercept_)\n",
    "print('slope:', model.coef_)\n"
   ]
  },
  {
   "cell_type": "code",
   "execution_count": 176,
   "metadata": {},
   "outputs": [
    {
     "data": {
      "text/plain": [
       "0.8846217742421179"
      ]
     },
     "execution_count": 176,
     "metadata": {},
     "output_type": "execute_result"
    }
   ],
   "source": [
    "from sklearn.metrics import r2_score\n",
    "r2_score(y_test,y_pred)\n"
   ]
  },
  {
   "cell_type": "code",
   "execution_count": 177,
   "metadata": {},
   "outputs": [
    {
     "name": "stdout",
     "output_type": "stream",
     "text": [
      "The training score of model is:  0.8895039709699961\n"
     ]
    }
   ],
   "source": [
    "train_score = model.score(x_train, y_train)\n",
    "print(\"The training score of model is: \", train_score)"
   ]
  },
  {
   "cell_type": "code",
   "execution_count": 178,
   "metadata": {},
   "outputs": [
    {
     "name": "stdout",
     "output_type": "stream",
     "text": [
      "The score of the model on test data is: 0.8846217742421179\n"
     ]
    }
   ],
   "source": [
    "test_score = model.score(x_test, y_test)\n",
    "print(\"The score of the model on test data is:\", test_score )\n"
   ]
  },
  {
   "cell_type": "code",
   "execution_count": 179,
   "metadata": {},
   "outputs": [
    {
     "name": "stdout",
     "output_type": "stream",
     "text": [
      "r2_score is 0.8846217742421179\n",
      "mean_sqrd_error is== 0.002514562279882228\n",
      "root_mean_squared error of is== 0.05014541135420297\n"
     ]
    }
   ],
   "source": [
    "from sklearn.metrics import r2_score\n",
    "from sklearn.metrics import mean_squared_error\n",
    "# predicting the accuracy score\n",
    "score=r2_score(y_test,y_pred)\n",
    "print('r2_score is',score)\n",
    "print('mean_sqrd_error is==',mean_squared_error(y_test,y_pred))\n",
    "print('root_mean_squared error of is==',np.sqrt(mean_squared_error(y_test,y_pred)))\n"
   ]
  },
  {
   "cell_type": "code",
   "execution_count": null,
   "metadata": {},
   "outputs": [],
   "source": []
  },
  {
   "cell_type": "code",
   "execution_count": 180,
   "metadata": {},
   "outputs": [
    {
     "data": {
      "image/png": "[encoded data removed]",
      "text/plain": [
       "<Figure size 432x288 with 1 Axes>"
      ]
     },
     "metadata": {
      "needs_background": "light"
     },
     "output_type": "display_data"
    }
   ],
   "source": [
    "import matplotlib.pyplot as plt \n",
    "import seaborn as sns \n",
    "\n",
    "\n",
    "y_pred = model.predict(x_test) \n",
    "#plt.scatter(x_test, y_test, color ='b') \n",
    "plt.plot(x_test, y_pred, color ='k') \n",
    "  \n",
    "plt.show()\n"
   ]
  },
  {
   "cell_type": "code",
   "execution_count": 181,
   "metadata": {
    "scrolled": false
   },
   "outputs": [
    {
     "name": "stdout",
     "output_type": "stream",
     "text": [
      "                            OLS Regression Results                            \n",
      "==============================================================================\n",
      "Dep. Variable:                 PtsEst   R-squared:                       0.885\n",
      "Model:                            OLS   Adj. R-squared:                  0.885\n",
      "Method:                 Least Squares   F-statistic:                     5536.\n",
      "Date:                Mon, 13 Dec 2021   Prob (F-statistic):               0.00\n",
      "Time:                        00:50:52   Log-Likelihood:                 24068.\n",
      "No. Observations:               15151   AIC:                        -4.809e+04\n",
      "Df Residuals:                   15129   BIC:                        -4.793e+04\n",
      "Df Model:                          21                                         \n",
      "Covariance Type:            nonrobust                                         \n",
      "=================================================================================\n",
      "                    coef    std err          t      P>|t|      [0.025      0.975]\n",
      "---------------------------------------------------------------------------------\n",
      "EpsPoints     -6.908e+09    7.3e+10     -0.095      0.925    -1.5e+11    1.36e+11\n",
      "RevenuePoints -6.908e+09    7.3e+10     -0.095      0.925    -1.5e+11    1.36e+11\n",
      "TotalPoints     1.23e+10    1.3e+11      0.095      0.925   -2.42e+11    2.67e+11\n",
      "EPS               0.0069      0.011      0.602      0.547      -0.015       0.029\n",
      "Points            0.3661      0.007     50.722      0.000       0.352       0.380\n",
      "ErrorRate        -0.1684      0.002    -73.583      0.000      -0.173      -0.164\n",
      "Accuracy          0.4744      0.004    128.216      0.000       0.467       0.482\n",
      "followers      2.804e+10   1.47e+11      0.191      0.848   -2.59e+11    3.15e+11\n",
      "analysts      -1.467e+10   9.09e+10     -0.161      0.872   -1.93e+11    1.64e+11\n",
      "Ticker_ARNA    1.863e+08   4.85e+09      0.038      0.969   -9.31e+09    9.69e+09\n",
      "Ticker_BGCP    1.965e+09   1.13e+10      0.174      0.862   -2.02e+10    2.41e+10\n",
      "Ticker_CCMP    1.466e+09   9.76e+09      0.150      0.881   -1.77e+10    2.06e+10\n",
      "Ticker_CRTO    5.519e+08   7.11e+09      0.078      0.938   -1.34e+10    1.45e+10\n",
      "Ticker_CRY     2.123e+09   1.12e+10      0.189      0.850   -1.99e+10    2.41e+10\n",
      "Ticker_CYD     2.039e+09   1.14e+10      0.178      0.859   -2.04e+10    2.45e+10\n",
      "Ticker_EPAY    4.272e+09   2.13e+10      0.201      0.841   -3.74e+10    4.59e+10\n",
      "Ticker_EVBG    3.148e+08   1.17e+10      0.027      0.979   -2.27e+10    2.33e+10\n",
      "Ticker_FROG   -1.612e+09   1.81e+10     -0.089      0.929   -3.71e+10    3.39e+10\n",
      "Ticker_KGC     1.486e+09   7.88e+09      0.189      0.850    -1.4e+10    1.69e+10\n",
      "Ticker_KOP     2.291e+09   1.23e+10      0.187      0.852   -2.17e+10    2.63e+10\n",
      "Ticker_MMSI    2.963e+09    1.4e+10      0.211      0.833   -2.46e+10    3.05e+10\n",
      "Ticker_MTRX    3.007e+09   1.44e+10      0.209      0.834   -2.52e+10    3.12e+10\n",
      "Ticker_OXY    -1.226e+10   5.97e+10     -0.205      0.837   -1.29e+11    1.05e+11\n",
      "Ticker_PHM    -4.512e+09    2.3e+10     -0.197      0.844   -4.95e+10    4.05e+10\n",
      "Ticker_WTI     1.199e+09   5.69e+09      0.211      0.833   -9.95e+09    1.23e+10\n",
      "==============================================================================\n",
      "Omnibus:                     3245.778   Durbin-Watson:                   1.966\n",
      "Prob(Omnibus):                  0.000   Jarque-Bera (JB):            13347.810\n",
      "Skew:                           1.008   Prob(JB):                         0.00\n",
      "Kurtosis:                       7.132   Cond. No.                     1.85e+15\n",
      "==============================================================================\n",
      "\n",
      "Notes:\n",
      "[1] Standard Errors assume that the covariance matrix of the errors is correctly specified.\n",
      "[2] The smallest eigenvalue is 1.85e-26. This might indicate that there are\n",
      "strong multicollinearity problems or that the design matrix is singular.\n"
     ]
    }
   ],
   "source": [
    "#fit linear regression model\n",
    "import statsmodels.api as sm\n",
    "\n",
    "model = sm.OLS(y_train, x_train).fit()\n",
    "\n",
    "#view model summary\n",
    "print(model.summary())"
   ]
  },
  {
   "cell_type": "code",
   "execution_count": 182,
   "metadata": {},
   "outputs": [
    {
     "name": "stderr",
     "output_type": "stream",
     "text": [
      "C:\\Users\\kesha\\anaconda3\\lib\\site-packages\\statsmodels\\sandbox\\regression\\predstd.py:97: RuntimeWarning: invalid value encountered in sqrt\n",
      "  predstd = np.sqrt(predvar)\n"
     ]
    },
    {
     "data": {
      "image/png": "[encoded data removed]",
      "text/plain": [
       "<Figure size 864x576 with 4 Axes>"
      ]
     },
     "metadata": {
      "needs_background": "light"
     },
     "output_type": "display_data"
    }
   ],
   "source": [
    "#define figure size\n",
    "fig = plt.figure(figsize=(12,8))\n",
    "\n",
    "#produce residual plots\n",
    "fig = sm.graphics.plot_regress_exog(model, 'ErrorRate', fig=fig)\n"
   ]
  },
  {
   "cell_type": "code",
   "execution_count": 183,
   "metadata": {},
   "outputs": [
    {
     "data": {
      "image/png": "[encoded data removed]",
      "text/plain": [
       "<Figure size 432x288 with 1 Axes>"
      ]
     },
     "metadata": {
      "needs_background": "light"
     },
     "output_type": "display_data"
    }
   ],
   "source": [
    "#define residuals\n",
    "res = model.resid\n",
    "\n",
    "#create Q-Q plot\n",
    "fig = sm.qqplot(res, fit=True, line=\"45\")\n",
    "plt.show() \n"
   ]
  },
  {
   "cell_type": "code",
   "execution_count": 184,
   "metadata": {},
   "outputs": [
    {
     "name": "stderr",
     "output_type": "stream",
     "text": [
      "C:\\Users\\kesha\\anaconda3\\lib\\site-packages\\seaborn\\distributions.py:2551: FutureWarning: `distplot` is a deprecated function and will be removed in a future version. Please adapt your code to use either `displot` (a figure-level function with similar flexibility) or `histplot` (an axes-level function for histograms).\n",
      "  warnings.warn(msg, FutureWarning)\n"
     ]
    },
    {
     "data": {
      "image/png": "[encoded data removed]",
      "text/plain": [
       "<Figure size 432x288 with 1 Axes>"
      ]
     },
     "metadata": {
      "needs_background": "light"
     },
     "output_type": "display_data"
    }
   ],
   "source": [
    "sns.distplot(model.get_influence().resid_studentized_internal)\n",
    "plt.show()\n"
   ]
  },
  {
   "cell_type": "code",
   "execution_count": null,
   "metadata": {},
   "outputs": [],
   "source": []
  },
  {
   "cell_type": "code",
   "execution_count": 185,
   "metadata": {},
   "outputs": [
    {
     "data": {
      "text/html": [
       "<div>\n",
       "<style scoped>\n",
       "    .dataframe tbody tr th:only-of-type {\n",
       "        vertical-align: middle;\n",
       "    }\n",
       "\n",
       "    .dataframe tbody tr th {\n",
       "        vertical-align: top;\n",
       "    }\n",
       "\n",
       "    .dataframe thead th {\n",
       "        text-align: right;\n",
       "    }\n",
       "</style>\n",
       "<table border=\"1\" class=\"dataframe\">\n",
       "  <thead>\n",
       "    <tr style=\"text-align: right;\">\n",
       "      <th></th>\n",
       "      <th>what_search</th>\n",
       "      <th>fquarter</th>\n",
       "      <th>reported_earnings</th>\n",
       "      <th>estimize_consensus</th>\n",
       "      <th>estimize_mean</th>\n",
       "      <th>wall_street_consensus</th>\n",
       "    </tr>\n",
       "  </thead>\n",
       "  <tbody>\n",
       "    <tr>\n",
       "      <th>0</th>\n",
       "      <td>WTI</td>\n",
       "      <td>FQ3'21</td>\n",
       "      <td>0</td>\n",
       "      <td>-0.06</td>\n",
       "      <td>-0.05</td>\n",
       "      <td>-0.09</td>\n",
       "    </tr>\n",
       "    <tr>\n",
       "      <th>1</th>\n",
       "      <td>WTI</td>\n",
       "      <td>FQ2'21</td>\n",
       "      <td>0.02</td>\n",
       "      <td>0.11</td>\n",
       "      <td>0.11</td>\n",
       "      <td>0.09</td>\n",
       "    </tr>\n",
       "    <tr>\n",
       "      <th>2</th>\n",
       "      <td>WTI</td>\n",
       "      <td>FQ1'21</td>\n",
       "      <td>0.11</td>\n",
       "      <td>0.08</td>\n",
       "      <td>0.08</td>\n",
       "      <td>0.05</td>\n",
       "    </tr>\n",
       "    <tr>\n",
       "      <th>3</th>\n",
       "      <td>WTI</td>\n",
       "      <td>FQ4'20</td>\n",
       "      <td>-0.05</td>\n",
       "      <td>-0.14</td>\n",
       "      <td>-0.05</td>\n",
       "      <td>-0.15</td>\n",
       "    </tr>\n",
       "    <tr>\n",
       "      <th>4</th>\n",
       "      <td>ARNA</td>\n",
       "      <td>FQ3'21</td>\n",
       "      <td>-3.21</td>\n",
       "      <td>-2.53</td>\n",
       "      <td>-2.67</td>\n",
       "      <td>-2.55</td>\n",
       "    </tr>\n",
       "    <tr>\n",
       "      <th>...</th>\n",
       "      <td>...</td>\n",
       "      <td>...</td>\n",
       "      <td>...</td>\n",
       "      <td>...</td>\n",
       "      <td>...</td>\n",
       "      <td>...</td>\n",
       "    </tr>\n",
       "    <tr>\n",
       "      <th>255</th>\n",
       "      <td>FICO</td>\n",
       "      <td>FQ4'20</td>\n",
       "      <td>2.74</td>\n",
       "      <td>2.58</td>\n",
       "      <td>2.54</td>\n",
       "      <td>2.29</td>\n",
       "    </tr>\n",
       "    <tr>\n",
       "      <th>256</th>\n",
       "      <td>RVLV</td>\n",
       "      <td>FQ3'21</td>\n",
       "      <td>0.22</td>\n",
       "      <td>0.25</td>\n",
       "      <td>0.22</td>\n",
       "      <td>0.15</td>\n",
       "    </tr>\n",
       "    <tr>\n",
       "      <th>257</th>\n",
       "      <td>RVLV</td>\n",
       "      <td>FQ2'21</td>\n",
       "      <td>0.42</td>\n",
       "      <td>0.26</td>\n",
       "      <td>0.25</td>\n",
       "      <td>0.21</td>\n",
       "    </tr>\n",
       "    <tr>\n",
       "      <th>258</th>\n",
       "      <td>RVLV</td>\n",
       "      <td>FQ1'21</td>\n",
       "      <td>0.3</td>\n",
       "      <td>-</td>\n",
       "      <td>0.13</td>\n",
       "      <td>Nan</td>\n",
       "    </tr>\n",
       "    <tr>\n",
       "      <th>259</th>\n",
       "      <td>RVLV</td>\n",
       "      <td>FQ4'20</td>\n",
       "      <td>0.26</td>\n",
       "      <td>-</td>\n",
       "      <td>0.11</td>\n",
       "      <td>Nan</td>\n",
       "    </tr>\n",
       "  </tbody>\n",
       "</table>\n",
       "<p>260 rows × 6 columns</p>\n",
       "</div>"
      ],
      "text/plain": [
       "    what_search fquarter reported_earnings estimize_consensus estimize_mean  \\\n",
       "0           WTI   FQ3'21                 0              -0.06         -0.05   \n",
       "1           WTI   FQ2'21              0.02               0.11          0.11   \n",
       "2           WTI   FQ1'21              0.11               0.08          0.08   \n",
       "3           WTI   FQ4'20             -0.05              -0.14         -0.05   \n",
       "4          ARNA   FQ3'21             -3.21              -2.53         -2.67   \n",
       "..          ...      ...               ...                ...           ...   \n",
       "255        FICO   FQ4'20              2.74               2.58          2.54   \n",
       "256        RVLV   FQ3'21              0.22               0.25          0.22   \n",
       "257        RVLV   FQ2'21              0.42               0.26          0.25   \n",
       "258        RVLV   FQ1'21               0.3                  -          0.13   \n",
       "259        RVLV   FQ4'20              0.26                  -          0.11   \n",
       "\n",
       "    wall_street_consensus  \n",
       "0                   -0.09  \n",
       "1                    0.09  \n",
       "2                    0.05  \n",
       "3                   -0.15  \n",
       "4                   -2.55  \n",
       "..                    ...  \n",
       "255                  2.29  \n",
       "256                  0.15  \n",
       "257                  0.21  \n",
       "258                   Nan  \n",
       "259                   Nan  \n",
       "\n",
       "[260 rows x 6 columns]"
      ]
     },
     "execution_count": 185,
     "metadata": {},
     "output_type": "execute_result"
    }
   ],
   "source": [
    "companyeps"
   ]
  },
  {
   "cell_type": "code",
   "execution_count": 186,
   "metadata": {},
   "outputs": [
    {
     "name": "stdout",
     "output_type": "stream",
     "text": [
      "<class 'pandas.core.frame.DataFrame'>\n",
      "RangeIndex: 260 entries, 0 to 259\n",
      "Data columns (total 6 columns):\n",
      " #   Column                 Non-Null Count  Dtype \n",
      "---  ------                 --------------  ----- \n",
      " 0   what_search            260 non-null    object\n",
      " 1   fquarter               260 non-null    object\n",
      " 2   reported_earnings      258 non-null    object\n",
      " 3   estimize_consensus     260 non-null    object\n",
      " 4   estimize_mean          260 non-null    object\n",
      " 5   wall_street_consensus  260 non-null    object\n",
      "dtypes: object(6)\n",
      "memory usage: 12.3+ KB\n"
     ]
    }
   ],
   "source": [
    "companyeps.info()"
   ]
  },
  {
   "cell_type": "code",
   "execution_count": 187,
   "metadata": {},
   "outputs": [],
   "source": [
    "companyeps = companyeps.dropna()"
   ]
  },
  {
   "cell_type": "code",
   "execution_count": 188,
   "metadata": {},
   "outputs": [],
   "source": [
    "companyeps = companyeps[companyeps.estimize_consensus != '-']\n",
    "companyeps = companyeps[companyeps.estimize_mean != '-']\n",
    "companyeps = companyeps[companyeps.wall_street_consensus != '-']\n",
    "companyeps = companyeps[companyeps.reported_earnings != '-']\n"
   ]
  },
  {
   "cell_type": "code",
   "execution_count": 189,
   "metadata": {},
   "outputs": [],
   "source": [
    "companyeps['estimize_consensus'] = companyeps['estimize_consensus'].astype(float)\n",
    "#data['Rank'] = float(data['Rank'])\n",
    "companyeps['estimize_mean'] = companyeps['estimize_mean'].astype(float)\n",
    "companyeps['wall_street_consensus'] = companyeps['wall_street_consensus'].astype(float)\n",
    "companyeps['reported_earnings'] = companyeps['reported_earnings'].astype(float)\n",
    "#data['Revenue'] = data['Revenue'].astype(float)\n",
    "#data['ErrorRate'] = data['ErrorRate'].astype(float)\n",
    "#data['Accuracy'] = data['Accuracy'].astype(float)\n",
    "#data['confidence_score'] = data['confidence_score'].astype(float)\n",
    "#data['errorrate'] = data['errorrate'].astype(float)\n",
    "#data['Rank'] = data['Rank'].astype(float)\n"
   ]
  },
  {
   "cell_type": "code",
   "execution_count": 190,
   "metadata": {},
   "outputs": [
    {
     "name": "stdout",
     "output_type": "stream",
     "text": [
      "<class 'pandas.core.frame.DataFrame'>\n",
      "Int64Index: 230 entries, 0 to 257\n",
      "Data columns (total 6 columns):\n",
      " #   Column                 Non-Null Count  Dtype  \n",
      "---  ------                 --------------  -----  \n",
      " 0   what_search            230 non-null    object \n",
      " 1   fquarter               230 non-null    object \n",
      " 2   reported_earnings      226 non-null    float64\n",
      " 3   estimize_consensus     226 non-null    float64\n",
      " 4   estimize_mean          226 non-null    float64\n",
      " 5   wall_street_consensus  225 non-null    float64\n",
      "dtypes: float64(4), object(2)\n",
      "memory usage: 12.6+ KB\n"
     ]
    }
   ],
   "source": [
    "companyeps.info()"
   ]
  },
  {
   "cell_type": "code",
   "execution_count": 191,
   "metadata": {},
   "outputs": [
    {
     "data": {
      "text/html": [
       "<div>\n",
       "<style scoped>\n",
       "    .dataframe tbody tr th:only-of-type {\n",
       "        vertical-align: middle;\n",
       "    }\n",
       "\n",
       "    .dataframe tbody tr th {\n",
       "        vertical-align: top;\n",
       "    }\n",
       "\n",
       "    .dataframe thead th {\n",
       "        text-align: right;\n",
       "    }\n",
       "</style>\n",
       "<table border=\"1\" class=\"dataframe\">\n",
       "  <thead>\n",
       "    <tr style=\"text-align: right;\">\n",
       "      <th></th>\n",
       "      <th>reported_earnings</th>\n",
       "      <th>estimize_consensus</th>\n",
       "      <th>estimize_mean</th>\n",
       "      <th>wall_street_consensus</th>\n",
       "    </tr>\n",
       "  </thead>\n",
       "  <tbody>\n",
       "    <tr>\n",
       "      <th>count</th>\n",
       "      <td>226.000000</td>\n",
       "      <td>226.000000</td>\n",
       "      <td>226.000000</td>\n",
       "      <td>225.00000</td>\n",
       "    </tr>\n",
       "    <tr>\n",
       "      <th>mean</th>\n",
       "      <td>0.618850</td>\n",
       "      <td>0.564867</td>\n",
       "      <td>0.592832</td>\n",
       "      <td>0.51280</td>\n",
       "    </tr>\n",
       "    <tr>\n",
       "      <th>std</th>\n",
       "      <td>1.053026</td>\n",
       "      <td>0.914559</td>\n",
       "      <td>0.893631</td>\n",
       "      <td>0.89216</td>\n",
       "    </tr>\n",
       "    <tr>\n",
       "      <th>min</th>\n",
       "      <td>-3.210000</td>\n",
       "      <td>-2.530000</td>\n",
       "      <td>-2.670000</td>\n",
       "      <td>-2.55000</td>\n",
       "    </tr>\n",
       "    <tr>\n",
       "      <th>25%</th>\n",
       "      <td>0.030000</td>\n",
       "      <td>0.030000</td>\n",
       "      <td>0.020000</td>\n",
       "      <td>0.01000</td>\n",
       "    </tr>\n",
       "    <tr>\n",
       "      <th>50%</th>\n",
       "      <td>0.355000</td>\n",
       "      <td>0.330000</td>\n",
       "      <td>0.460000</td>\n",
       "      <td>0.28000</td>\n",
       "    </tr>\n",
       "    <tr>\n",
       "      <th>75%</th>\n",
       "      <td>1.077500</td>\n",
       "      <td>1.040000</td>\n",
       "      <td>1.125000</td>\n",
       "      <td>1.05000</td>\n",
       "    </tr>\n",
       "    <tr>\n",
       "      <th>max</th>\n",
       "      <td>4.580000</td>\n",
       "      <td>3.590000</td>\n",
       "      <td>3.400000</td>\n",
       "      <td>3.36000</td>\n",
       "    </tr>\n",
       "  </tbody>\n",
       "</table>\n",
       "</div>"
      ],
      "text/plain": [
       "       reported_earnings  estimize_consensus  estimize_mean  \\\n",
       "count         226.000000          226.000000     226.000000   \n",
       "mean            0.618850            0.564867       0.592832   \n",
       "std             1.053026            0.914559       0.893631   \n",
       "min            -3.210000           -2.530000      -2.670000   \n",
       "25%             0.030000            0.030000       0.020000   \n",
       "50%             0.355000            0.330000       0.460000   \n",
       "75%             1.077500            1.040000       1.125000   \n",
       "max             4.580000            3.590000       3.400000   \n",
       "\n",
       "       wall_street_consensus  \n",
       "count              225.00000  \n",
       "mean                 0.51280  \n",
       "std                  0.89216  \n",
       "min                 -2.55000  \n",
       "25%                  0.01000  \n",
       "50%                  0.28000  \n",
       "75%                  1.05000  \n",
       "max                  3.36000  "
      ]
     },
     "execution_count": 191,
     "metadata": {},
     "output_type": "execute_result"
    }
   ],
   "source": [
    "companyeps.describe()"
   ]
  },
  {
   "cell_type": "code",
   "execution_count": 192,
   "metadata": {},
   "outputs": [
    {
     "data": {
      "text/html": [
       "<div>\n",
       "<style scoped>\n",
       "    .dataframe tbody tr th:only-of-type {\n",
       "        vertical-align: middle;\n",
       "    }\n",
       "\n",
       "    .dataframe tbody tr th {\n",
       "        vertical-align: top;\n",
       "    }\n",
       "\n",
       "    .dataframe thead th {\n",
       "        text-align: right;\n",
       "    }\n",
       "</style>\n",
       "<table border=\"1\" class=\"dataframe\">\n",
       "  <thead>\n",
       "    <tr style=\"text-align: right;\">\n",
       "      <th></th>\n",
       "      <th>reported_earnings</th>\n",
       "      <th>estimize_consensus</th>\n",
       "      <th>estimize_mean</th>\n",
       "      <th>wall_street_consensus</th>\n",
       "    </tr>\n",
       "  </thead>\n",
       "  <tbody>\n",
       "    <tr>\n",
       "      <th>reported_earnings</th>\n",
       "      <td>1.000000</td>\n",
       "      <td>0.953748</td>\n",
       "      <td>0.908644</td>\n",
       "      <td>0.941700</td>\n",
       "    </tr>\n",
       "    <tr>\n",
       "      <th>estimize_consensus</th>\n",
       "      <td>0.953748</td>\n",
       "      <td>1.000000</td>\n",
       "      <td>0.961961</td>\n",
       "      <td>0.995302</td>\n",
       "    </tr>\n",
       "    <tr>\n",
       "      <th>estimize_mean</th>\n",
       "      <td>0.908644</td>\n",
       "      <td>0.961961</td>\n",
       "      <td>1.000000</td>\n",
       "      <td>0.960638</td>\n",
       "    </tr>\n",
       "    <tr>\n",
       "      <th>wall_street_consensus</th>\n",
       "      <td>0.941700</td>\n",
       "      <td>0.995302</td>\n",
       "      <td>0.960638</td>\n",
       "      <td>1.000000</td>\n",
       "    </tr>\n",
       "  </tbody>\n",
       "</table>\n",
       "</div>"
      ],
      "text/plain": [
       "                       reported_earnings  estimize_consensus  estimize_mean  \\\n",
       "reported_earnings               1.000000            0.953748       0.908644   \n",
       "estimize_consensus              0.953748            1.000000       0.961961   \n",
       "estimize_mean                   0.908644            0.961961       1.000000   \n",
       "wall_street_consensus           0.941700            0.995302       0.960638   \n",
       "\n",
       "                       wall_street_consensus  \n",
       "reported_earnings                   0.941700  \n",
       "estimize_consensus                  0.995302  \n",
       "estimize_mean                       0.960638  \n",
       "wall_street_consensus               1.000000  "
      ]
     },
     "execution_count": 192,
     "metadata": {},
     "output_type": "execute_result"
    }
   ],
   "source": [
    "companyeps.corr()"
   ]
  },
  {
   "cell_type": "code",
   "execution_count": 194,
   "metadata": {},
   "outputs": [
    {
     "data": {
      "text/html": [
       "\n",
       "<div id=\"altair-viz-f47786d5cae34a8a96f4a54304ea1c88\"></div>\n",
       "<script type=\"text/javascript\">\n",
       "  (function(spec, embedOpt){\n",
       "    let outputDiv = document.currentScript.previousElementSibling;\n",
       "    if (outputDiv.id !== \"altair-viz-f47786d5cae34a8a96f4a54304ea1c88\") {\n",
       "      outputDiv = document.getElementById(\"altair-viz-f47786d5cae34a8a96f4a54304ea1c88\");\n",
       "    }\n",
       "    const paths = {\n",
       "      \"vega\": \"https://cdn.jsdelivr.net/npm//vega@5?noext\",\n",
       "      \"vega-lib\": \"https://cdn.jsdelivr.net/npm//vega-lib?noext\",\n",
       "      \"vega-lite\": \"https://cdn.jsdelivr.net/npm//vega-lite@4.8.1?noext\",\n",
       "      \"vega-embed\": \"https://cdn.jsdelivr.net/npm//vega-embed@6?noext\",\n",
       "    };\n",
       "\n",
       "    function loadScript(lib) {\n",
       "      return new Promise(function(resolve, reject) {\n",
       "        var s = document.createElement('script');\n",
       "        s.src = paths[lib];\n",
       "        s.async = true;\n",
       "        s.onload = () => resolve(paths[lib]);\n",
       "        s.onerror = () => reject(`Error loading script: ${paths[lib]}`);\n",
       "        document.getElementsByTagName(\"head\")[0].appendChild(s);\n",
       "      });\n",
       "    }\n",
       "\n",
       "    function showError(err) {\n",
       "      outputDiv.innerHTML = `<div class=\"error\" style=\"color:red;\">${err}</div>`;\n",
       "      throw err;\n",
       "    }\n",
       "\n",
       "    function displayChart(vegaEmbed) {\n",
       "      vegaEmbed(outputDiv, spec, embedOpt)\n",
       "        .catch(err => showError(`Javascript Error: ${err.message}<br>This usually means there's a typo in your chart specification. See the javascript console for the full traceback.`));\n",
       "    }\n",
       "\n",
       "    if(typeof define === \"function\" && define.amd) {\n",
       "      requirejs.config({paths});\n",
       "      require([\"vega-embed\"], displayChart, err => showError(`Error loading script: ${err.message}`));\n",
       "    } else if (typeof vegaEmbed === \"function\") {\n",
       "      displayChart(vegaEmbed);\n",
       "    } else {\n",
       "      loadScript(\"vega\")\n",
       "        .then(() => loadScript(\"vega-lite\"))\n",
       "        .then(() => loadScript(\"vega-embed\"))\n",
       "        .catch(showError)\n",
       "        .then(() => displayChart(vegaEmbed));\n",
       "    }\n",
       "  })({\"config\": {\"view\": {\"continuousWidth\": 400, \"continuousHeight\": 300}}, \"data\": {\"name\": \"data-2a7fcc42ae8f3062a4e50e4b5c20d9bd\"}, \"mark\": {\"type\": \"rect\", \"tooltip\": true}, \"encoding\": {\"color\": {\"type\": \"quantitative\", \"field\": \"value\", \"scale\": {\"scheme\": \"redyellowblue\"}}, \"x\": {\"type\": \"nominal\", \"field\": \"cat\"}, \"y\": {\"type\": \"nominal\", \"field\": \"key\"}}, \"transform\": [{\"fold\": [\"reported_earnings\", \"estimize_consensus\", \"estimize_mean\", \"wall_street_consensus\"]}], \"$schema\": \"https://vega.github.io/schema/vega-lite/v4.8.1.json\", \"datasets\": {\"data-2a7fcc42ae8f3062a4e50e4b5c20d9bd\": [{\"reported_earnings\": 1.0, \"estimize_consensus\": 0.9537479573465921, \"estimize_mean\": 0.9086442795762057, \"wall_street_consensus\": 0.9417002065228421, \"cat\": \"reported_earnings\"}, {\"reported_earnings\": 0.9537479573465921, \"estimize_consensus\": 1.0, \"estimize_mean\": 0.9619612581790908, \"wall_street_consensus\": 0.995301632378982, \"cat\": \"estimize_consensus\"}, {\"reported_earnings\": 0.9086442795762057, \"estimize_consensus\": 0.9619612581790908, \"estimize_mean\": 1.0, \"wall_street_consensus\": 0.9606375959504221, \"cat\": \"estimize_mean\"}, {\"reported_earnings\": 0.9417002065228421, \"estimize_consensus\": 0.995301632378982, \"estimize_mean\": 0.9606375959504221, \"wall_street_consensus\": 1.0, \"cat\": \"wall_street_consensus\"}]}}, {\"mode\": \"vega-lite\"});\n",
       "</script>"
      ],
      "text/plain": [
       "alt.Chart(...)"
      ]
     },
     "execution_count": 194,
     "metadata": {},
     "output_type": "execute_result"
    }
   ],
   "source": [
    "import altair as alt\n",
    "\n",
    "corr_df = companyeps.corr()\n",
    "\n",
    "pivot_cols = list(corr_df.columns)\n",
    "corr_df['cat'] = corr_df.index\n",
    "\n",
    "# actual chart\n",
    "alt.Chart(corr_df).mark_rect(tooltip=True)\\\n",
    "   .transform_fold(pivot_cols)\\\n",
    "   .encode(\n",
    "       x=\"cat:N\", \n",
    "       y='key:N', \n",
    "       color=alt.Color(\"value:Q\", scale=alt.Scale(scheme=\"redyellowblue\"))\n",
    "   )\n"
   ]
  },
  {
   "cell_type": "code",
   "execution_count": 195,
   "metadata": {},
   "outputs": [
    {
     "data": {
      "text/html": [
       "\n",
       "<div id=\"altair-viz-18d821170cb34fd29351e6bd16c10e02\"></div>\n",
       "<script type=\"text/javascript\">\n",
       "  (function(spec, embedOpt){\n",
       "    let outputDiv = document.currentScript.previousElementSibling;\n",
       "    if (outputDiv.id !== \"altair-viz-18d821170cb34fd29351e6bd16c10e02\") {\n",
       "      outputDiv = document.getElementById(\"altair-viz-18d821170cb34fd29351e6bd16c10e02\");\n",
       "    }\n",
       "    const paths = {\n",
       "      \"vega\": \"https://cdn.jsdelivr.net/npm//vega@5?noext\",\n",
       "      \"vega-lib\": \"https://cdn.jsdelivr.net/npm//vega-lib?noext\",\n",
       "      \"vega-lite\": \"https://cdn.jsdelivr.net/npm//vega-lite@4.8.1?noext\",\n",
       "      \"vega-embed\": \"https://cdn.jsdelivr.net/npm//vega-embed@6?noext\",\n",
       "    };\n",
       "\n",
       "    function loadScript(lib) {\n",
       "      return new Promise(function(resolve, reject) {\n",
       "        var s = document.createElement('script');\n",
       "        s.src = paths[lib];\n",
       "        s.async = true;\n",
       "        s.onload = () => resolve(paths[lib]);\n",
       "        s.onerror = () => reject(`Error loading script: ${paths[lib]}`);\n",
       "        document.getElementsByTagName(\"head\")[0].appendChild(s);\n",
       "      });\n",
       "    }\n",
       "\n",
       "    function showError(err) {\n",
       "      outputDiv.innerHTML = `<div class=\"error\" style=\"color:red;\">${err}</div>`;\n",
       "      throw err;\n",
       "    }\n",
       "\n",
       "    function displayChart(vegaEmbed) {\n",
       "      vegaEmbed(outputDiv, spec, embedOpt)\n",
       "        .catch(err => showError(`Javascript Error: ${err.message}<br>This usually means there's a typo in your chart specification. See the javascript console for the full traceback.`));\n",
       "    }\n",
       "\n",
       "    if(typeof define === \"function\" && define.amd) {\n",
       "      requirejs.config({paths});\n",
       "      require([\"vega-embed\"], displayChart, err => showError(`Error loading script: ${err.message}`));\n",
       "    } else if (typeof vegaEmbed === \"function\") {\n",
       "      displayChart(vegaEmbed);\n",
       "    } else {\n",
       "      loadScript(\"vega\")\n",
       "        .then(() => loadScript(\"vega-lite\"))\n",
       "        .then(() => loadScript(\"vega-embed\"))\n",
       "        .catch(showError)\n",
       "        .then(() => displayChart(vegaEmbed));\n",
       "    }\n",
       "  })({\"config\": {\"view\": {\"continuousWidth\": 400, \"continuousHeight\": 300}}, \"layer\": [{\"mark\": \"rect\", \"encoding\": {\"color\": {\"type\": \"quantitative\", \"field\": \"value\", \"scale\": {\"scheme\": \"redyellowblue\"}}, \"x\": {\"type\": \"nominal\", \"field\": \"cat\"}, \"y\": {\"type\": \"nominal\", \"field\": \"key\"}}, \"height\": 300, \"transform\": [{\"fold\": [\"reported_earnings\", \"estimize_consensus\", \"estimize_mean\", \"wall_street_consensus\"]}], \"width\": 300}, {\"mark\": {\"type\": \"text\", \"color\": \"white\", \"size\": 20}, \"encoding\": {\"text\": {\"type\": \"quantitative\", \"field\": \"value\", \"format\": \"0.1f\"}, \"x\": {\"type\": \"nominal\", \"field\": \"cat\"}, \"y\": {\"type\": \"nominal\", \"field\": \"key\"}}, \"height\": 300, \"transform\": [{\"fold\": [\"reported_earnings\", \"estimize_consensus\", \"estimize_mean\", \"wall_street_consensus\"]}], \"width\": 300}], \"data\": {\"name\": \"data-2a7fcc42ae8f3062a4e50e4b5c20d9bd\"}, \"$schema\": \"https://vega.github.io/schema/vega-lite/v4.8.1.json\", \"datasets\": {\"data-2a7fcc42ae8f3062a4e50e4b5c20d9bd\": [{\"reported_earnings\": 1.0, \"estimize_consensus\": 0.9537479573465921, \"estimize_mean\": 0.9086442795762057, \"wall_street_consensus\": 0.9417002065228421, \"cat\": \"reported_earnings\"}, {\"reported_earnings\": 0.9537479573465921, \"estimize_consensus\": 1.0, \"estimize_mean\": 0.9619612581790908, \"wall_street_consensus\": 0.995301632378982, \"cat\": \"estimize_consensus\"}, {\"reported_earnings\": 0.9086442795762057, \"estimize_consensus\": 0.9619612581790908, \"estimize_mean\": 1.0, \"wall_street_consensus\": 0.9606375959504221, \"cat\": \"estimize_mean\"}, {\"reported_earnings\": 0.9417002065228421, \"estimize_consensus\": 0.995301632378982, \"estimize_mean\": 0.9606375959504221, \"wall_street_consensus\": 1.0, \"cat\": \"wall_street_consensus\"}]}}, {\"mode\": \"vega-lite\"});\n",
       "</script>"
      ],
      "text/plain": [
       "alt.LayerChart(...)"
      ]
     },
     "execution_count": 195,
     "metadata": {},
     "output_type": "execute_result"
    }
   ],
   "source": [
    "base = alt.Chart(corr_df).transform_fold(pivot_cols).encode(x=\"cat:N\",  y='key:N').properties(height=300, width=300)\n",
    "boxes = base.mark_rect().encode(color=alt.Color(\"value:Q\", scale=alt.Scale(scheme=\"redyellowblue\")))\n",
    "labels = base.mark_text(size=20, color=\"white\").encode(text=alt.Text(\"value:Q\", format=\"0.1f\"))\n",
    "boxes + labels\n"
   ]
  },
  {
   "cell_type": "code",
   "execution_count": 196,
   "metadata": {},
   "outputs": [],
   "source": [
    "#companyeps.melt(id_vars='what_search').groupby(['estimize_consensus']).mean()\n",
    "#companyeps.pivot_table(companyeps, values='what_search', index='estimize_consensus', aggfunc='mean')\n"
   ]
  },
  {
   "cell_type": "code",
   "execution_count": 197,
   "metadata": {},
   "outputs": [
    {
     "data": {
      "text/plain": [
       "65"
      ]
     },
     "execution_count": 197,
     "metadata": {},
     "output_type": "execute_result"
    }
   ],
   "source": [
    "companyeps.what_search.nunique()"
   ]
  },
  {
   "cell_type": "code",
   "execution_count": null,
   "metadata": {},
   "outputs": [],
   "source": []
  }
 ],
 "metadata": {
  "kernelspec": {
   "display_name": "Python 3",
   "language": "python",
   "name": "python3"
  },
  "language_info": {
   "codemirror_mode": {
    "name": "ipython",
    "version": 3
   },
   "file_extension": ".py",
   "mimetype": "text/x-python",
   "name": "python",
   "nbconvert_exporter": "python",
   "pygments_lexer": "ipython3",
   "version": "3.8.5"
  }
 },
 "nbformat": 4,
 "nbformat_minor": 4
}
